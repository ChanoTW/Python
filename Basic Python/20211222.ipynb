{
 "cells": [
  {
   "cell_type": "markdown",
   "id": "f23b7edb",
   "metadata": {},
   "source": [
    "# 삼항연산자\n",
    "- a if 조건식 else b"
   ]
  },
  {
   "cell_type": "code",
   "execution_count": 1,
   "id": "e89749a5",
   "metadata": {},
   "outputs": [
    {
     "data": {
      "text/plain": [
       "'불합격'"
      ]
     },
     "execution_count": 1,
     "metadata": {},
     "output_type": "execute_result"
    }
   ],
   "source": [
    "score = 50\n",
    "\n",
    "\"합격\" if score >= 60 else '불합격'"
   ]
  },
  {
   "cell_type": "code",
   "execution_count": 2,
   "id": "4ce0f743",
   "metadata": {},
   "outputs": [
    {
     "name": "stdout",
     "output_type": "stream",
     "text": [
      "정수입력 >> 1\n",
      "정수입력 >> 1\n",
      "b : 1\n"
     ]
    }
   ],
   "source": [
    "a = int(input(\"정수입력 >> \"))\n",
    "b = int(input(\"정수입력 >> \"))\n",
    "print(f\"a : {a}\") if a > b else print(f\"b : {b}\")"
   ]
  },
  {
   "cell_type": "code",
   "execution_count": 3,
   "id": "31ad785d",
   "metadata": {},
   "outputs": [
    {
     "name": "stdout",
     "output_type": "stream",
     "text": [
      "첫번째 정수 입력 >> 1\n",
      "두번째 정수 입력 >> 1\n",
      "두 수의 차 : 0\n",
      "두 수의 차 : 0\n",
      "두 수의 차 : 0\n"
     ]
    }
   ],
   "source": [
    "num1 = int(input(\"첫번째 정수 입력 >> \"))\n",
    "num2 = int(input(\"두번째 정수 입력 >> \"))\n",
    "print(f\"두 수의 차 : {num1-num2}\") if num1>num2 else print(f\"두 수의 차 : {num2-num1}\")\n",
    "print(\"두 수의 차 : %d\"%(num1-num2)) if num1>num2 else print(\"두 수의 차 : %d\"%(num2-num1))\n",
    "print(\"두 수의 차 : {}\".format(num1-num2)) if num1>num2 else print(\"두 수의 차 : {}\".format(num2-num1))"
   ]
  },
  {
   "cell_type": "code",
   "execution_count": 4,
   "id": "4a2fea28",
   "metadata": {},
   "outputs": [
    {
     "name": "stdout",
     "output_type": "stream",
     "text": [
      "정수 입력 >> 1\n",
      "1은 홀수입니다.\n"
     ]
    }
   ],
   "source": [
    "num = int(input(\"정수 입력 >> \"))\n",
    "print(f\"{num}은 홀수입니다.\") if num%2==1 else print(f\"{num}은 짝수입니다.\") "
   ]
  },
  {
   "cell_type": "code",
   "execution_count": 5,
   "id": "5ede3342",
   "metadata": {},
   "outputs": [
    {
     "name": "stdout",
     "output_type": "stream",
     "text": [
      "정수 입력 >> 1\n",
      "1 1\n"
     ]
    }
   ],
   "source": [
    "a = b = int(input(\"정수 입력 >> \"))\n",
    "print(a,b)\n"
   ]
  },
  {
   "cell_type": "code",
   "execution_count": 6,
   "id": "38cf75b6",
   "metadata": {},
   "outputs": [
    {
     "name": "stdout",
     "output_type": "stream",
     "text": [
      "A 정수1\n",
      "B 정수1\n",
      "2\n"
     ]
    }
   ],
   "source": [
    "a, b = int(input(\"A 정수\")), int(input(\"B 정수\"))\n",
    "print(a+b)"
   ]
  },
  {
   "cell_type": "markdown",
   "id": "7abbef72",
   "metadata": {},
   "source": [
    "# 조건문\n",
    "- if \n",
    "- elif\n",
    "- else"
   ]
  },
  {
   "cell_type": "markdown",
   "id": "cccc1dee",
   "metadata": {},
   "source": [
    "## if"
   ]
  },
  {
   "cell_type": "code",
   "execution_count": 7,
   "id": "02ac6840",
   "metadata": {},
   "outputs": [
    {
     "name": "stdout",
     "output_type": "stream",
     "text": [
      "if문 밖에있는 문장 실행\n"
     ]
    }
   ],
   "source": [
    "if False:\n",
    "    print(\"실행문장실행\")\n",
    "print(\"if문 밖에있는 문장 실행\")"
   ]
  },
  {
   "cell_type": "code",
   "execution_count": 8,
   "id": "805e7ca5",
   "metadata": {},
   "outputs": [
    {
     "name": "stdout",
     "output_type": "stream",
     "text": [
      "남은 돈 >> 1\n"
     ]
    }
   ],
   "source": [
    "money = int(input(\"남은 돈 >> \"))\n",
    "if money>=10000:\n",
    "    print(\"택시를 탄다.\")"
   ]
  },
  {
   "cell_type": "markdown",
   "id": "e9398a52",
   "metadata": {},
   "source": [
    "## else"
   ]
  },
  {
   "cell_type": "code",
   "execution_count": 9,
   "id": "58490e2d",
   "metadata": {},
   "outputs": [
    {
     "name": "stdout",
     "output_type": "stream",
     "text": [
      "실행문장2\n"
     ]
    }
   ],
   "source": [
    "if False:\n",
    "    print('실행문장1')\n",
    "else:\n",
    "    print('실행문장2')"
   ]
  },
  {
   "cell_type": "code",
   "execution_count": 10,
   "id": "5fb72582",
   "metadata": {},
   "outputs": [
    {
     "name": "stdout",
     "output_type": "stream",
     "text": [
      "남은 돈 >> 1\n",
      "버스를 탄다\n"
     ]
    }
   ],
   "source": [
    "money = int(input(\"남은 돈 >> \"))\n",
    "if money>=10000:\n",
    "    print(\"택시를 탄다\")\n",
    "else:\n",
    "    print(\"버스를 탄다\")"
   ]
  },
  {
   "cell_type": "code",
   "execution_count": 11,
   "id": "ce232fc2",
   "metadata": {},
   "outputs": [
    {
     "name": "stdout",
     "output_type": "stream",
     "text": [
      "정수 입력 >> 1\n",
      "3과 5의 배수가 아닙니다.\n"
     ]
    }
   ],
   "source": [
    "num = int(input(\"정수 입력 >> \"))\n",
    "if num%3 == 0 and num % 5 == 0:\n",
    "    print(\"3과 5의 배수입니다.\")\n",
    "else:\n",
    "    print(\"3과 5의 배수가 아닙니다.\")"
   ]
  },
  {
   "cell_type": "code",
   "execution_count": 12,
   "id": "b278d2fa",
   "metadata": {},
   "outputs": [
    {
     "name": "stdout",
     "output_type": "stream",
     "text": [
      "첫번째 정수 입력 >> 1\n",
      "두번째 정수 입력 >> 1\n",
      "두 수가 똑같습니다.\n"
     ]
    }
   ],
   "source": [
    "num1 = int(input(\"첫번째 정수 입력 >> \"))\n",
    "num2 = int(input(\"두번째 정수 입력 >> \"))\n",
    "if num1>num2:\n",
    "    print(\"첫번째 정수가 더 큽니다.\")\n",
    "elif num1<num2:\n",
    "    print(\"두번째 정수가 더 큽니다.\")\n",
    "else:\n",
    "    print(\"두 수가 똑같습니다.\")"
   ]
  },
  {
   "cell_type": "code",
   "execution_count": 13,
   "id": "ea246f3d",
   "metadata": {},
   "outputs": [
    {
     "name": "stdout",
     "output_type": "stream",
     "text": [
      "점수 입력 >> 1\n",
      "1점은 F학점입니다.\n"
     ]
    }
   ],
   "source": [
    "score = int(input(\"점수 입력 >> \"))\n",
    "if score>=90:\n",
    "    print(f\"{score}점은 A학점입니다.\")\n",
    "elif score>=80:\n",
    "    print(f\"{score}점은 B학점입니다.\")\n",
    "elif score>=70:\n",
    "    print(f\"{score}점은 C학점입니다.\")\n",
    "elif score>=60:\n",
    "    print(f\"{score}점은 D학점입니다.\")\n",
    "else:\n",
    "    print(f\"{score}점은 F학점입니다.\")"
   ]
  },
  {
   "cell_type": "code",
   "execution_count": 20,
   "id": "b17c9da0",
   "metadata": {},
   "outputs": [
    {
     "name": "stdout",
     "output_type": "stream",
     "text": [
      "\n",
      "================================================\n",
      "================---- 자판기 ----================\n",
      "================================================\n",
      "== 1.콜라 == 2.사이다 ==  3.물  =======insert===\n",
      "==--------==----------==--------=======------===\n",
      "==   600  ==    800   ==  1000  ======= O00원===\n",
      "=======================================------===\n",
      "================================================\n",
      "==++++++++++++++++++++++++++++++++++++++++++++==\n",
      "==++++++++++++++++++++++++++++++++++++++++++++==\n",
      "==++++++++++++++++++++++++++++++++++++++++++++==\n",
      "==+++++++++++++++              +++++++++++++++==\n",
      "==+++++++++++++++     SMHRD    +++++++++++++++==\n",
      "==+++++++++++++++              +++++++++++++++==\n",
      "==++++++++++++++++++++++++++++++++++++++++++++==\n",
      "==++++++++++++++++++++++++++++++++++++++++++++==\n",
      "================================================\n",
      "================================================\n",
      "  ===                                      ===\n",
      "  ===                                      ===\n",
      "\n",
      "insert coin >> 1000\n",
      "메뉴 선택 >> 1\n",
      "잔돈 \n",
      "1000원 : 0개 \n",
      "500원 : 0개 \n",
      "100원 : 4개\n"
     ]
    }
   ],
   "source": [
    "print('''\n",
    "================================================\n",
    "================---- 자판기 ----================\n",
    "================================================\n",
    "== 1.콜라 == 2.사이다 ==  3.물  =======insert===\n",
    "==--------==----------==--------=======------===\n",
    "==   600  ==    800   ==  1000  ======= O00원===\n",
    "=======================================------===\n",
    "================================================\n",
    "==++++++++++++++++++++++++++++++++++++++++++++==\n",
    "==++++++++++++++++++++++++++++++++++++++++++++==\n",
    "==++++++++++++++++++++++++++++++++++++++++++++==\n",
    "==+++++++++++++++              +++++++++++++++==\n",
    "==+++++++++++++++     SMHRD    +++++++++++++++==\n",
    "==+++++++++++++++              +++++++++++++++==\n",
    "==++++++++++++++++++++++++++++++++++++++++++++==\n",
    "==++++++++++++++++++++++++++++++++++++++++++++==\n",
    "================================================\n",
    "================================================\n",
    "  ===                                      ===\n",
    "  ===                                      ===\n",
    "''')\n",
    "\n",
    "money = int(input(\"insert coin >> \"))\n",
    "menu = int(input(\"메뉴 선택 >> \"))\n",
    "beverage = 0\n",
    "if menu==1:\n",
    "    beverage = 600\n",
    "elif menu==2:\n",
    "    beverage = 800\n",
    "elif menu==3:\n",
    "    beverage = 1000\n",
    "\n",
    "cash = money-beverage\n",
    "if cash < 0:\n",
    "    print(\"잔액이 부족합니다.\")\n",
    "else:\n",
    "    result = f\"잔돈 \\n1000원 : {cash//1000}개 \\n500원 : {cash%1000//500}개 \\n100원 : {cash%500//100}개\"\n",
    "    print(result)\n",
    "    "
   ]
  },
  {
   "cell_type": "markdown",
   "id": "d55fce10",
   "metadata": {},
   "source": [
    "# 리스트\n",
    "- 파이썬의 자료구조 형태중 하나\n",
    "- 순서가 있는 수정가능 한 객체의 집합\n",
    "- 대괄호 [ ]로 작성되어지며, 리스트 내부의 값은 콤마 ( , )로 구분\n",
    "- 추가, 수정, 삭제 가능"
   ]
  },
  {
   "cell_type": "code",
   "execution_count": 27,
   "id": "9777980a",
   "metadata": {},
   "outputs": [
    {
     "name": "stdout",
     "output_type": "stream",
     "text": [
      "[1, 2, ['my', 'name']]\n"
     ]
    }
   ],
   "source": [
    "a = []\n",
    "b = [1,2,3]\n",
    "c = ['my','name']\n",
    "d = [1,2,'my','name']\n",
    "e = [1,2,['my','name']]\n",
    "print(e)"
   ]
  },
  {
   "cell_type": "code",
   "execution_count": 31,
   "id": "a1cf799b",
   "metadata": {},
   "outputs": [
    {
     "name": "stdout",
     "output_type": "stream",
     "text": [
      "2\n",
      "7\n",
      "17\n"
     ]
    }
   ],
   "source": [
    "list1 = [2,5,7,9,10]\n",
    "print(list1[0])\n",
    "print(list1[2])\n",
    "print(list1[2]+list1[-1])"
   ]
  },
  {
   "cell_type": "code",
   "execution_count": 32,
   "id": "2f3486b4",
   "metadata": {},
   "outputs": [
    {
     "name": "stdout",
     "output_type": "stream",
     "text": [
      "[1, 2, 3, ['a', 'b', 'c']]\n"
     ]
    }
   ],
   "source": [
    "list2 = [1,2,3, ['a','b','c']]\n",
    "print(list2)"
   ]
  },
  {
   "cell_type": "code",
   "execution_count": 36,
   "id": "054ad3b7",
   "metadata": {},
   "outputs": [
    {
     "name": "stdout",
     "output_type": "stream",
     "text": [
      "['a', 'b', 'c']\n"
     ]
    }
   ],
   "source": [
    "temp = list2[3]\n",
    "print(temp)"
   ]
  },
  {
   "cell_type": "code",
   "execution_count": 39,
   "id": "a18abe27",
   "metadata": {},
   "outputs": [
    {
     "name": "stdout",
     "output_type": "stream",
     "text": [
      "b\n",
      "b\n"
     ]
    }
   ],
   "source": [
    "print(temp[1])\n",
    "print(list2[3][1])"
   ]
  },
  {
   "cell_type": "code",
   "execution_count": 49,
   "id": "8836e5a5",
   "metadata": {},
   "outputs": [
    {
     "name": "stdout",
     "output_type": "stream",
     "text": [
      "[1, 2]\n",
      "[0, 1]\n",
      "[3, 4]\n"
     ]
    }
   ],
   "source": [
    "list3 = [0,1,2,3,4]\n",
    "print(list3[1:3])\n",
    "print(list3[:2])\n",
    "print(list3[3:])"
   ]
  },
  {
   "cell_type": "code",
   "execution_count": 51,
   "id": "0f79c6ee",
   "metadata": {},
   "outputs": [
    {
     "name": "stdout",
     "output_type": "stream",
     "text": [
      "[1, 2, 3, 3, 4, 5, 6]\n",
      "7\n"
     ]
    }
   ],
   "source": [
    "list4 = [1,2,3]\n",
    "list5 = [3,4,5,6]\n",
    "print(list4+list5)\n",
    "print(list4[0]+list5[3])"
   ]
  },
  {
   "cell_type": "markdown",
   "id": "1eab9e85",
   "metadata": {},
   "source": [
    "## 값 추가 append 사용"
   ]
  },
  {
   "cell_type": "code",
   "execution_count": 52,
   "id": "2c9a0d2d",
   "metadata": {},
   "outputs": [
    {
     "data": {
      "text/plain": [
       "[0, 1, 2, 3, 4, 5]"
      ]
     },
     "execution_count": 52,
     "metadata": {},
     "output_type": "execute_result"
    }
   ],
   "source": [
    "list6 = [0,1,2,3,4]\n",
    "list6.append(5)\n",
    "list6"
   ]
  },
  {
   "cell_type": "code",
   "execution_count": 53,
   "id": "6f344a78",
   "metadata": {},
   "outputs": [],
   "source": [
    "listfruit = ['사과', '포도', ['수박', '멜론'], '복숭아', '딸기', '오렌지']"
   ]
  },
  {
   "cell_type": "code",
   "execution_count": 56,
   "id": "8d14b375",
   "metadata": {},
   "outputs": [],
   "source": [
    "choice_list = []"
   ]
  },
  {
   "cell_type": "code",
   "execution_count": 58,
   "id": "2bfe538d",
   "metadata": {},
   "outputs": [
    {
     "name": "stdout",
     "output_type": "stream",
     "text": [
      "['사과']\n"
     ]
    }
   ],
   "source": [
    "choice_list.append(listfruit[0])\n",
    "print(choice_list)"
   ]
  },
  {
   "cell_type": "code",
   "execution_count": 59,
   "id": "b8136680",
   "metadata": {},
   "outputs": [
    {
     "name": "stdout",
     "output_type": "stream",
     "text": [
      "['사과', '오렌지']\n"
     ]
    }
   ],
   "source": [
    "choice_list.append(listfruit[-1])\n",
    "print(choice_list)"
   ]
  },
  {
   "cell_type": "code",
   "execution_count": 60,
   "id": "90d03230",
   "metadata": {},
   "outputs": [
    {
     "name": "stdout",
     "output_type": "stream",
     "text": [
      "['사과', '오렌지', '수박']\n"
     ]
    }
   ],
   "source": [
    "choice_list.append(listfruit[2][0])\n",
    "print(choice_list)"
   ]
  },
  {
   "cell_type": "markdown",
   "id": "08ae7362",
   "metadata": {},
   "source": [
    "## 값 추가 insert사용"
   ]
  },
  {
   "cell_type": "code",
   "execution_count": 62,
   "id": "260a506b",
   "metadata": {},
   "outputs": [
    {
     "name": "stdout",
     "output_type": "stream",
     "text": [
      "[0, 5, 1, 2, 3, 4]\n"
     ]
    }
   ],
   "source": [
    "list5 = [0,1,2,3,4]\n",
    "list5.insert(1,5)\n",
    "print(list5)"
   ]
  },
  {
   "cell_type": "code",
   "execution_count": 63,
   "id": "7a45ade3",
   "metadata": {},
   "outputs": [
    {
     "name": "stdout",
     "output_type": "stream",
     "text": [
      "[0, 5, 1, 2, 3, 6, 4]\n"
     ]
    }
   ],
   "source": [
    "list5.insert(5,6)\n",
    "print(list5)"
   ]
  },
  {
   "cell_type": "code",
   "execution_count": 67,
   "id": "c67c8206",
   "metadata": {},
   "outputs": [
    {
     "name": "stdout",
     "output_type": "stream",
     "text": [
      "인덱스 위치 입력 >> 2\n",
      "노래제목 입력 >> 롤린\n",
      "가수 입력 >> 브레이브걸스\n",
      "[['Butter', '방탄'], ['헤픈 우연', '헤이즈'], ['롤린', '브레이브걸스'], ['라일락', '아이유']]\n"
     ]
    }
   ],
   "source": [
    "music_list = []\n",
    "music_list = [['Butter','방탄'],['헤픈 우연','헤이즈'],['라일락','아이유']]\n",
    "\n",
    "index = int(input(\"인덱스 위치 입력 >> \"))\n",
    "song = input(\"노래제목 입력 >> \")\n",
    "singer = input(\"가수 입력 >> \")\n",
    "\n",
    "music_list.insert(index, [song, singer])\n",
    "print(music_list)"
   ]
  },
  {
   "cell_type": "markdown",
   "id": "195f5087",
   "metadata": {},
   "source": [
    "## 값 수정"
   ]
  },
  {
   "cell_type": "code",
   "execution_count": 2,
   "id": "5763fa58",
   "metadata": {},
   "outputs": [
    {
     "data": {
      "text/plain": [
       "[0, 1, 2, 3, 4, 5]"
      ]
     },
     "execution_count": 2,
     "metadata": {},
     "output_type": "execute_result"
    }
   ],
   "source": [
    "list6 = [0,1,2,3,4,5]\n",
    "list6"
   ]
  },
  {
   "cell_type": "code",
   "execution_count": 3,
   "id": "979cd589",
   "metadata": {},
   "outputs": [
    {
     "name": "stdout",
     "output_type": "stream",
     "text": [
      "수정 전 : 1\n",
      "수정 후 : 7\n"
     ]
    }
   ],
   "source": [
    "print('수정 전 :',list6[1])\n",
    "list6[1] = 7\n",
    "print('수정 후 :',list6[1])"
   ]
  },
  {
   "cell_type": "code",
   "execution_count": 4,
   "id": "a5d13c2d",
   "metadata": {},
   "outputs": [
    {
     "data": {
      "text/plain": [
       "[0, 7, 2, 3, 4, 5]"
      ]
     },
     "execution_count": 4,
     "metadata": {},
     "output_type": "execute_result"
    }
   ],
   "source": [
    "list6"
   ]
  },
  {
   "cell_type": "code",
   "execution_count": 6,
   "id": "16681ce1",
   "metadata": {},
   "outputs": [
    {
     "name": "stdout",
     "output_type": "stream",
     "text": [
      "[0, 7, 2, 7, 5]\n"
     ]
    }
   ],
   "source": [
    "list6[3:5] = [7]\n",
    "print(list6)"
   ]
  },
  {
   "cell_type": "code",
   "execution_count": 26,
   "id": "26e52080",
   "metadata": {},
   "outputs": [],
   "source": [
    "array=[]\n",
    "array=[1,2,3,4,5]"
   ]
  },
  {
   "cell_type": "code",
   "execution_count": 27,
   "id": "57c6f942",
   "metadata": {},
   "outputs": [
    {
     "name": "stdout",
     "output_type": "stream",
     "text": [
      "[1, 2, 3, 4, 7]\n"
     ]
    }
   ],
   "source": [
    "array[4] = 7\n",
    "print(array)"
   ]
  },
  {
   "cell_type": "code",
   "execution_count": 28,
   "id": "c7a0f656",
   "metadata": {},
   "outputs": [
    {
     "name": "stdout",
     "output_type": "stream",
     "text": [
      "[1, ['a', 'b', 'c'], 3, 4, 7]\n"
     ]
    }
   ],
   "source": [
    "array[1] = ['a','b','c']\n",
    "print(array)"
   ]
  },
  {
   "cell_type": "code",
   "execution_count": 33,
   "id": "6a080d64",
   "metadata": {},
   "outputs": [
    {
     "name": "stdout",
     "output_type": "stream",
     "text": [
      "[('h', 'i', 'j'), ['a', 'b', 'c'], 3, 'd', 'e', 'f', 'g']\n"
     ]
    }
   ],
   "source": [
    "array[3:] = ['d','e','f','g']\n",
    "print(array)"
   ]
  },
  {
   "cell_type": "code",
   "execution_count": 35,
   "id": "c9c0a025",
   "metadata": {},
   "outputs": [
    {
     "name": "stdout",
     "output_type": "stream",
     "text": [
      "['h', 'i', 'j', 'i', 'j', ['a', 'b', 'c'], 3, 'd', 'e', 'f', 'g']\n"
     ]
    }
   ],
   "source": [
    "array[:1] = ['h','i','j']\n",
    "print(array)"
   ]
  },
  {
   "cell_type": "markdown",
   "id": "e5977586",
   "metadata": {},
   "source": [
    "## 값 삭제\n",
    "- del 키워드"
   ]
  },
  {
   "cell_type": "code",
   "execution_count": 36,
   "id": "b5d0e3ad",
   "metadata": {},
   "outputs": [
    {
     "name": "stdout",
     "output_type": "stream",
     "text": [
      "[0, 2, 3, 4, 5]\n"
     ]
    }
   ],
   "source": [
    "list7 =[0,1,2,3,4,5]\n",
    "del list7[1]\n",
    "print(list7)"
   ]
  },
  {
   "cell_type": "code",
   "execution_count": 37,
   "id": "8feaf5a5",
   "metadata": {},
   "outputs": [
    {
     "name": "stdout",
     "output_type": "stream",
     "text": [
      "[0, 5]\n"
     ]
    }
   ],
   "source": [
    "#슬라이싱으로 지우기\n",
    "del list7[1:4]\n",
    "print(list7)"
   ]
  },
  {
   "cell_type": "code",
   "execution_count": 40,
   "id": "d8f9e2be",
   "metadata": {},
   "outputs": [
    {
     "name": "stdout",
     "output_type": "stream",
     "text": [
      "['a', 'c', 'd', 'e']\n"
     ]
    }
   ],
   "source": [
    "#remove(값) 함수 이용해서 값 삭제\n",
    "list7 = ['a','b','c','d','e']\n",
    "list7.remove('b')\n",
    "print(list7)"
   ]
  },
  {
   "cell_type": "code",
   "execution_count": 41,
   "id": "4b8fecd8",
   "metadata": {},
   "outputs": [
    {
     "data": {
      "text/plain": [
       "[9, 77, 13, 51, 100, 3]"
      ]
     },
     "execution_count": 41,
     "metadata": {},
     "output_type": "execute_result"
    }
   ],
   "source": [
    "#오름차순 정렬 sort()함수 사용\n",
    "list8 = [9,77,13,51,100,3]\n",
    "list8"
   ]
  },
  {
   "cell_type": "code",
   "execution_count": 42,
   "id": "a8c3c748",
   "metadata": {},
   "outputs": [
    {
     "data": {
      "text/plain": [
       "[3, 9, 13, 51, 77, 100]"
      ]
     },
     "execution_count": 42,
     "metadata": {},
     "output_type": "execute_result"
    }
   ],
   "source": [
    "list8.sort()\n",
    "list8"
   ]
  },
  {
   "cell_type": "code",
   "execution_count": 43,
   "id": "426329aa",
   "metadata": {},
   "outputs": [
    {
     "data": {
      "text/plain": [
       "[9, 77, 13, 51, 100, 3]"
      ]
     },
     "execution_count": 43,
     "metadata": {},
     "output_type": "execute_result"
    }
   ],
   "source": [
    "# reverse() - 리스트에 있는 값을 역순으로 뒤집음\n",
    "list9 = [9,77,13,51,100,3]\n",
    "list9"
   ]
  },
  {
   "cell_type": "code",
   "execution_count": 44,
   "id": "4d371fba",
   "metadata": {},
   "outputs": [
    {
     "data": {
      "text/plain": [
       "[3, 100, 51, 13, 77, 9]"
      ]
     },
     "execution_count": 44,
     "metadata": {},
     "output_type": "execute_result"
    }
   ],
   "source": [
    "list9.reverse()\n",
    "list9"
   ]
  },
  {
   "cell_type": "code",
   "execution_count": 46,
   "id": "8009081b",
   "metadata": {},
   "outputs": [
    {
     "data": {
      "text/plain": [
       "[100, 77, 51, 13, 9, 3]"
      ]
     },
     "execution_count": 46,
     "metadata": {},
     "output_type": "execute_result"
    }
   ],
   "source": [
    "#내림차순도 이렇게 응용됨\n",
    "list9.sort(reverse=True)\n",
    "list9"
   ]
  },
  {
   "cell_type": "code",
   "execution_count": 51,
   "id": "eaaf8fad",
   "metadata": {},
   "outputs": [
    {
     "data": {
      "text/plain": [
       "2"
      ]
     },
     "execution_count": 51,
     "metadata": {},
     "output_type": "execute_result"
    }
   ],
   "source": [
    "#index() 찾고자하는 값의 위치를 반환\n",
    "list11 = ['a','b','c','d','e','f','c','c']\n",
    "list11.index('c')"
   ]
  },
  {
   "cell_type": "code",
   "execution_count": 52,
   "id": "fbe3581b",
   "metadata": {},
   "outputs": [
    {
     "data": {
      "text/plain": [
       "3"
      ]
     },
     "execution_count": 52,
     "metadata": {},
     "output_type": "execute_result"
    }
   ],
   "source": [
    "#count() 찾고자하는 값은 몇번 들어있는지 반환\n",
    "list11.count('c')"
   ]
  },
  {
   "cell_type": "code",
   "execution_count": 53,
   "id": "80a03f5c",
   "metadata": {},
   "outputs": [
    {
     "data": {
      "text/plain": [
       "'c'"
      ]
     },
     "execution_count": 53,
     "metadata": {},
     "output_type": "execute_result"
    }
   ],
   "source": [
    "#pop() - 마지막 값을 반환 후 삭제\n",
    "list11.pop()"
   ]
  },
  {
   "cell_type": "code",
   "execution_count": 54,
   "id": "d9c1c31a",
   "metadata": {},
   "outputs": [
    {
     "data": {
      "text/plain": [
       "['a', 'b', 'c', 'd', 'e', 'f', 'c']"
      ]
     },
     "execution_count": 54,
     "metadata": {},
     "output_type": "execute_result"
    }
   ],
   "source": [
    "list11"
   ]
  },
  {
   "cell_type": "code",
   "execution_count": 56,
   "id": "b83edf83",
   "metadata": {},
   "outputs": [
    {
     "data": {
      "text/plain": [
       "7"
      ]
     },
     "execution_count": 56,
     "metadata": {},
     "output_type": "execute_result"
    }
   ],
   "source": [
    "#len(리스트) - 리스트 값 개수 반환\n",
    "list12 = [0,1,2]\n",
    "len(list12)\n",
    "len(list11)"
   ]
  },
  {
   "cell_type": "code",
   "execution_count": null,
   "id": "8e469451",
   "metadata": {},
   "outputs": [],
   "source": []
  },
  {
   "cell_type": "code",
   "execution_count": null,
   "id": "a3f552ab",
   "metadata": {},
   "outputs": [],
   "source": []
  }
 ],
 "metadata": {
  "kernelspec": {
   "display_name": "Python 3 (ipykernel)",
   "language": "python",
   "name": "python3"
  },
  "language_info": {
   "codemirror_mode": {
    "name": "ipython",
    "version": 3
   },
   "file_extension": ".py",
   "mimetype": "text/x-python",
   "name": "python",
   "nbconvert_exporter": "python",
   "pygments_lexer": "ipython3",
   "version": "3.9.7"
  }
 },
 "nbformat": 4,
 "nbformat_minor": 5
}
