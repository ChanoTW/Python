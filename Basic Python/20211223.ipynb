{
 "cells": [
  {
   "cell_type": "markdown",
   "id": "5596895d",
   "metadata": {},
   "source": [
    "# 튜플\n",
    "- 파이썬의 자료구조 형태 중 하나\n",
    "- 순서가 있는 집합(인덱스)\n",
    "- 소괄호()로 작성되어지며, 콤마(,)로 구분된다.\n",
    "- 추가, 수정, 삭제가 불가능하다!!\n",
    "- 처리속도 향상 및 메모리 공간 절약\n",
    "- 값이 변하면 안되는 경우 사용한다\n",
    "- 구문을 더 간단하게 사용하는 경우"
   ]
  },
  {
   "cell_type": "code",
   "execution_count": 1,
   "id": "1e6fb056",
   "metadata": {},
   "outputs": [
    {
     "name": "stdout",
     "output_type": "stream",
     "text": [
      "(1, 2, ('My', 'Name'))\n"
     ]
    }
   ],
   "source": [
    "a = ()\n",
    "b = (1,2,3)\n",
    "c = ('My','Name')\n",
    "d = (1,2,'My','Name')\n",
    "e = (1,2,('My','Name'))\n",
    "print(e)"
   ]
  },
  {
   "cell_type": "code",
   "execution_count": 2,
   "id": "712c6b9d",
   "metadata": {},
   "outputs": [],
   "source": [
    "tuple1 = (0,1,2,3,('a','b','c'),5)"
   ]
  },
  {
   "cell_type": "code",
   "execution_count": 3,
   "id": "f1f722c1",
   "metadata": {},
   "outputs": [
    {
     "data": {
      "text/plain": [
       "2"
      ]
     },
     "execution_count": 3,
     "metadata": {},
     "output_type": "execute_result"
    }
   ],
   "source": [
    "tuple1[2]"
   ]
  },
  {
   "cell_type": "code",
   "execution_count": 4,
   "id": "8eb49fd1",
   "metadata": {},
   "outputs": [
    {
     "data": {
      "text/plain": [
       "('a', 'b', 'c')"
      ]
     },
     "execution_count": 4,
     "metadata": {},
     "output_type": "execute_result"
    }
   ],
   "source": [
    "tuple1[4]"
   ]
  },
  {
   "cell_type": "code",
   "execution_count": 5,
   "id": "b59635f4",
   "metadata": {},
   "outputs": [
    {
     "data": {
      "text/plain": [
       "(1, 2)"
      ]
     },
     "execution_count": 5,
     "metadata": {},
     "output_type": "execute_result"
    }
   ],
   "source": [
    "tuple1[1:3]"
   ]
  },
  {
   "cell_type": "code",
   "execution_count": 6,
   "id": "6e08d2cf",
   "metadata": {},
   "outputs": [
    {
     "data": {
      "text/plain": [
       "(3, ('a', 'b', 'c'), 5)"
      ]
     },
     "execution_count": 6,
     "metadata": {},
     "output_type": "execute_result"
    }
   ],
   "source": [
    "tuple1[3:]"
   ]
  },
  {
   "cell_type": "code",
   "execution_count": 7,
   "id": "c6a651af",
   "metadata": {},
   "outputs": [
    {
     "data": {
      "text/plain": [
       "6"
      ]
     },
     "execution_count": 7,
     "metadata": {},
     "output_type": "execute_result"
    }
   ],
   "source": [
    "len(tuple1)"
   ]
  },
  {
   "cell_type": "code",
   "execution_count": 8,
   "id": "f0f4e667",
   "metadata": {},
   "outputs": [
    {
     "data": {
      "text/plain": [
       "3"
      ]
     },
     "execution_count": 8,
     "metadata": {},
     "output_type": "execute_result"
    }
   ],
   "source": [
    "len(tuple1[4])"
   ]
  },
  {
   "cell_type": "markdown",
   "id": "185d85f1",
   "metadata": {},
   "source": [
    "# 데이터의 포함여부 확인\n",
    "- in\n",
    "- not in"
   ]
  },
  {
   "cell_type": "code",
   "execution_count": 9,
   "id": "925b6c9b",
   "metadata": {},
   "outputs": [],
   "source": [
    "str1 = \"파이썬 최고\""
   ]
  },
  {
   "cell_type": "code",
   "execution_count": 10,
   "id": "d8c49225",
   "metadata": {},
   "outputs": [
    {
     "data": {
      "text/plain": [
       "True"
      ]
     },
     "execution_count": 10,
     "metadata": {},
     "output_type": "execute_result"
    }
   ],
   "source": [
    "\"파이썬\" in str1"
   ]
  },
  {
   "cell_type": "code",
   "execution_count": 11,
   "id": "9a96e53f",
   "metadata": {},
   "outputs": [
    {
     "data": {
      "text/plain": [
       "False"
      ]
     },
     "execution_count": 11,
     "metadata": {},
     "output_type": "execute_result"
    }
   ],
   "source": [
    "\"파이썬\" not in str1"
   ]
  },
  {
   "cell_type": "code",
   "execution_count": 12,
   "id": "4af7491e",
   "metadata": {},
   "outputs": [],
   "source": [
    "list1 = [77,38,10]"
   ]
  },
  {
   "cell_type": "code",
   "execution_count": 13,
   "id": "16a4275d",
   "metadata": {},
   "outputs": [
    {
     "data": {
      "text/plain": [
       "True"
      ]
     },
     "execution_count": 13,
     "metadata": {},
     "output_type": "execute_result"
    }
   ],
   "source": [
    "33 not in list1"
   ]
  },
  {
   "cell_type": "code",
   "execution_count": 14,
   "id": "27bba7fe",
   "metadata": {},
   "outputs": [],
   "source": [
    "list_fruit = ['딸기','바나나','수박','체리','포도']"
   ]
  },
  {
   "cell_type": "code",
   "execution_count": 16,
   "id": "5afde4bd",
   "metadata": {},
   "outputs": [
    {
     "name": "stdout",
     "output_type": "stream",
     "text": [
      "*********************************************\n",
      "검색할 문자를 입력하세요 >> 오렌지\n",
      "오렌지는 리스트에 들어있지 않습니다.\n",
      "*********************************************\n"
     ]
    }
   ],
   "source": [
    "print('*'*45)\n",
    "search = input(\"검색할 문자를 입력하세요 >> \")\n",
    "if search in list_fruit:\n",
    "    print(f\"{search}는 리스트에 {list_fruit.index(search)}번째 인덱스에 들어있습니다.\")\n",
    "else:\n",
    "    print(f\"{search}는 리스트에 들어있지 않습니다.\")\n",
    "print('*'*45)"
   ]
  },
  {
   "cell_type": "code",
   "execution_count": 17,
   "id": "23498f90",
   "metadata": {},
   "outputs": [],
   "source": [
    "s = 'Hi, My name is chano'"
   ]
  },
  {
   "cell_type": "code",
   "execution_count": 25,
   "id": "b355ee56",
   "metadata": {},
   "outputs": [
    {
     "name": "stdout",
     "output_type": "stream",
     "text": [
      "검색할 문자를 입력하세요 >> is\n",
      "'is'는 1번 들어 있습니다.\n"
     ]
    }
   ],
   "source": [
    "s_s = input(\"검색할 문자를 입력하세요 >> \")\n",
    "\n",
    "if s_s in s:\n",
    "    print(f'\\'{s_s}\\'는 {s.count(s_s)}번 들어 있습니다.')\n",
    "else:\n",
    "    print(f'\\'{s_s}\\'는 문자열에 들어있지 않습니다.')"
   ]
  },
  {
   "cell_type": "markdown",
   "id": "262c8225",
   "metadata": {},
   "source": [
    "# 반복문\n",
    "- while문 : 반복 횟수가 명확하지 않을 때 사용\n",
    "- for문 : 반복 횟수가 명확할 때 사용"
   ]
  },
  {
   "cell_type": "code",
   "execution_count": null,
   "id": "59622488",
   "metadata": {},
   "outputs": [],
   "source": [
    "while 조건문:\n",
    "    실행문장"
   ]
  },
  {
   "cell_type": "code",
   "execution_count": 29,
   "id": "a263669d",
   "metadata": {},
   "outputs": [
    {
     "name": "stdout",
     "output_type": "stream",
     "text": [
      "1 파이썬 최고!!\n",
      "2 파이썬 최고!!\n",
      "3 파이썬 최고!!\n",
      "4 파이썬 최고!!\n",
      "5 파이썬 최고!!\n",
      "6 파이썬 최고!!\n",
      "7 파이썬 최고!!\n",
      "8 파이썬 최고!!\n",
      "9 파이썬 최고!!\n",
      "10 파이썬 최고!!\n",
      "11 파이썬 최고!!\n",
      "12 파이썬 최고!!\n",
      "13 파이썬 최고!!\n"
     ]
    }
   ],
   "source": [
    "num = 0\n",
    "while num < 13:\n",
    "    num+=1\n",
    "    print(f'{num} 파이썬 최고!!')"
   ]
  },
  {
   "cell_type": "code",
   "execution_count": 31,
   "id": "ee08e049",
   "metadata": {},
   "outputs": [
    {
     "name": "stdout",
     "output_type": "stream",
     "text": [
      "무한루프\n"
     ]
    }
   ],
   "source": [
    "while True:\n",
    "    print('무한루프')\n",
    "    break"
   ]
  },
  {
   "cell_type": "code",
   "execution_count": 33,
   "id": "18bd5a03",
   "metadata": {},
   "outputs": [
    {
     "name": "stdout",
     "output_type": "stream",
     "text": [
      "1\n",
      "2\n",
      "3\n"
     ]
    }
   ],
   "source": [
    "number = 1\n",
    "while True:\n",
    "    print(number)\n",
    "    number += 1\n",
    "    if number > 3:\n",
    "        break"
   ]
  },
  {
   "cell_type": "code",
   "execution_count": 38,
   "id": "0110f013",
   "metadata": {},
   "outputs": [
    {
     "name": "stdout",
     "output_type": "stream",
     "text": [
      "첫번째 정수 입력 >> 10\n",
      "첫번째 정수 입력 >> 10\n",
      "두 정수의 합 : 20\n",
      "첫번째 정수 입력 >> 0\n",
      "첫번째 정수 입력 >> 0\n",
      "프로그램이 종료되었습니다.\n"
     ]
    }
   ],
   "source": [
    "while True:\n",
    "    num1 = int(input(\"첫번째 정수 입력 >> \"))\n",
    "    num2 = int(input(\"첫번째 정수 입력 >> \"))\n",
    "    \n",
    "    if num1 == 0 and num2 == 0:\n",
    "        print('프로그램이 종료되었습니다.')\n",
    "        break\n",
    "    else:\n",
    "        print(f'두 정수의 합 : {num1+num2}')"
   ]
  },
  {
   "cell_type": "code",
   "execution_count": 50,
   "id": "3fd166aa",
   "metadata": {},
   "outputs": [
    {
     "name": "stdout",
     "output_type": "stream",
     "text": [
      "현재 몸무게 : 80\n",
      "목표 몸무게 : 70\n",
      "1주차 감량 몸무게 : 2\n",
      "2주차 감량 몸무게 : 3\n",
      "3주차 감량 몸무게 : 4\n",
      "4주차 감량 몸무게 : 5\n",
      "66kg 달성!! 축하합니다!\n"
     ]
    }
   ],
   "source": [
    "kg = int(input(\"현재 몸무게 : \"))\n",
    "s_kg = int(input(\"목표 몸무게 : \"))\n",
    "week = 1\n",
    "while kg>=s_kg:\n",
    "    d_kg = int(input(f'{week}주차 감량 몸무게 : '))\n",
    "    kg -= d_kg\n",
    "    week += 1\n",
    "print(f'{kg}kg 달성!! 축하합니다!')\n"
   ]
  },
  {
   "cell_type": "markdown",
   "id": "ed038fba",
   "metadata": {},
   "source": [
    "# for문"
   ]
  },
  {
   "cell_type": "code",
   "execution_count": 51,
   "id": "678cb8f3",
   "metadata": {},
   "outputs": [
    {
     "name": "stdout",
     "output_type": "stream",
     "text": [
      "안\n",
      "녕\n",
      "하\n",
      "세\n",
      "요\n"
     ]
    }
   ],
   "source": [
    "s = \"안녕하세요\"\n",
    "for i in s:\n",
    "    print(i)"
   ]
  },
  {
   "cell_type": "code",
   "execution_count": 52,
   "id": "0cae3c10",
   "metadata": {},
   "outputs": [
    {
     "name": "stdout",
     "output_type": "stream",
     "text": [
      "햄버거\n",
      "치킨\n",
      "피자\n"
     ]
    }
   ],
   "source": [
    "tuple_food = ('햄버거','치킨','피자')\n",
    "for food in tuple_food:\n",
    "    print(food)"
   ]
  },
  {
   "cell_type": "code",
   "execution_count": null,
   "id": "2484b1e2",
   "metadata": {},
   "outputs": [],
   "source": []
  },
  {
   "cell_type": "code",
   "execution_count": null,
   "id": "2b39396f",
   "metadata": {},
   "outputs": [],
   "source": []
  },
  {
   "cell_type": "code",
   "execution_count": null,
   "id": "0b53aee7",
   "metadata": {},
   "outputs": [],
   "source": []
  },
  {
   "cell_type": "code",
   "execution_count": null,
   "id": "b86f74b0",
   "metadata": {},
   "outputs": [],
   "source": []
  },
  {
   "cell_type": "code",
   "execution_count": null,
   "id": "3d2e9bdf",
   "metadata": {},
   "outputs": [],
   "source": []
  }
 ],
 "metadata": {
  "kernelspec": {
   "display_name": "Python 3 (ipykernel)",
   "language": "python",
   "name": "python3"
  },
  "language_info": {
   "codemirror_mode": {
    "name": "ipython",
    "version": 3
   },
   "file_extension": ".py",
   "mimetype": "text/x-python",
   "name": "python",
   "nbconvert_exporter": "python",
   "pygments_lexer": "ipython3",
   "version": "3.9.7"
  }
 },
 "nbformat": 4,
 "nbformat_minor": 5
}
