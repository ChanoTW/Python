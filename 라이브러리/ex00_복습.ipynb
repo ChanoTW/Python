{
 "cells": [
  {
   "cell_type": "code",
   "execution_count": 1,
   "id": "8974d54f",
   "metadata": {},
   "outputs": [],
   "source": [
    "#리스트 생성\n",
    "list1 =[1,2,3,4,5]"
   ]
  },
  {
   "cell_type": "code",
   "execution_count": 2,
   "id": "6dc60b26",
   "metadata": {},
   "outputs": [
    {
     "data": {
      "text/plain": [
       "3030091884096"
      ]
     },
     "execution_count": 2,
     "metadata": {},
     "output_type": "execute_result"
    }
   ],
   "source": [
    "#리스트의 주소값 확인\n",
    "id(list1)"
   ]
  },
  {
   "cell_type": "code",
   "execution_count": 3,
   "id": "a5d4ff81",
   "metadata": {},
   "outputs": [],
   "source": [
    "#리스트의 값 추가\n",
    "list1.append(6)"
   ]
  },
  {
   "cell_type": "code",
   "execution_count": 4,
   "id": "87b4dc3e",
   "metadata": {},
   "outputs": [
    {
     "data": {
      "text/plain": [
       "3030091884096"
      ]
     },
     "execution_count": 4,
     "metadata": {},
     "output_type": "execute_result"
    }
   ],
   "source": [
    "#리스트의 주소값 확인\n",
    "id(list1)"
   ]
  },
  {
   "cell_type": "code",
   "execution_count": 5,
   "id": "0e2e8307",
   "metadata": {},
   "outputs": [
    {
     "data": {
      "text/plain": [
       "3030091895552"
      ]
     },
     "execution_count": 5,
     "metadata": {},
     "output_type": "execute_result"
    }
   ],
   "source": [
    "#리스트에 새로운 값 할당\n",
    "list1 = [1,2,3,4]\n",
    "id(list1)"
   ]
  },
  {
   "cell_type": "code",
   "execution_count": 6,
   "id": "99c77b63",
   "metadata": {},
   "outputs": [],
   "source": [
    "list2 = list1\n",
    "#주소값이 같아져서 둘 중 아무곳에 값을 변동해도 둘 다 바뀜"
   ]
  },
  {
   "cell_type": "code",
   "execution_count": 7,
   "id": "0d1276fc",
   "metadata": {},
   "outputs": [
    {
     "data": {
      "text/plain": [
       "3030091895552"
      ]
     },
     "execution_count": 7,
     "metadata": {},
     "output_type": "execute_result"
    }
   ],
   "source": [
    "id(list2)"
   ]
  },
  {
   "cell_type": "code",
   "execution_count": 8,
   "id": "81dcf5bb",
   "metadata": {},
   "outputs": [
    {
     "name": "stdout",
     "output_type": "stream",
     "text": [
      "[1, 2, 3, 4]\n",
      "[1, 2, 3, 4]\n"
     ]
    }
   ],
   "source": [
    "print(list1)\n",
    "print(list2)"
   ]
  },
  {
   "cell_type": "code",
   "execution_count": 9,
   "id": "f6b82acc",
   "metadata": {},
   "outputs": [
    {
     "name": "stdout",
     "output_type": "stream",
     "text": [
      "[1, 2, 3, 4, 5]\n",
      "[1, 2, 3, 4, 5]\n"
     ]
    }
   ],
   "source": [
    "list1.append(5)\n",
    "print(list1)\n",
    "print(list2)"
   ]
  },
  {
   "cell_type": "code",
   "execution_count": 10,
   "id": "8cea5308",
   "metadata": {},
   "outputs": [
    {
     "name": "stdout",
     "output_type": "stream",
     "text": [
      "[1, 2, 3, 4, 5, 6]\n",
      "[1, 2, 3, 4, 5, 6]\n"
     ]
    }
   ],
   "source": [
    "list2.append(6)\n",
    "print(list1)\n",
    "print(list2)"
   ]
  },
  {
   "cell_type": "code",
   "execution_count": 11,
   "id": "0fbab286",
   "metadata": {},
   "outputs": [],
   "source": [
    "#다른주소로 값만 가져오기\n",
    "#.copy() : 값만 가져오는 기능"
   ]
  },
  {
   "cell_type": "code",
   "execution_count": 12,
   "id": "45f04a7c",
   "metadata": {},
   "outputs": [
    {
     "data": {
      "text/plain": [
       "3030091036096"
      ]
     },
     "execution_count": 12,
     "metadata": {},
     "output_type": "execute_result"
    }
   ],
   "source": [
    "list3 = list1.copy()\n",
    "id(list3)"
   ]
  },
  {
   "cell_type": "code",
   "execution_count": 13,
   "id": "3044214f",
   "metadata": {},
   "outputs": [
    {
     "data": {
      "text/plain": [
       "str"
      ]
     },
     "execution_count": 13,
     "metadata": {},
     "output_type": "execute_result"
    }
   ],
   "source": [
    "str1 ='문자열'\n",
    "type(str1)"
   ]
  },
  {
   "cell_type": "code",
   "execution_count": 14,
   "id": "24b62215",
   "metadata": {},
   "outputs": [
    {
     "data": {
      "text/plain": [
       "int"
      ]
     },
     "execution_count": 14,
     "metadata": {},
     "output_type": "execute_result"
    }
   ],
   "source": [
    "int1 = 60\n",
    "type(int1)"
   ]
  },
  {
   "cell_type": "code",
   "execution_count": 15,
   "id": "5421e40d",
   "metadata": {},
   "outputs": [],
   "source": [
    "#라이브러리에서 빈도 높에 사용될 함수\n",
    "# 인덱싱, 슬라이싱\n",
    "# append\n",
    "# remove"
   ]
  },
  {
   "cell_type": "code",
   "execution_count": 16,
   "id": "5bc90e36",
   "metadata": {},
   "outputs": [],
   "source": [
    "# 1~50까지가 담긴 리스트 생성하기"
   ]
  },
  {
   "cell_type": "code",
   "execution_count": 17,
   "id": "df53f5f2",
   "metadata": {},
   "outputs": [
    {
     "name": "stdout",
     "output_type": "stream",
     "text": [
      "list2 :  [1, 2, 3, 4, 5, 6, 7, 8, 9, 10, 11, 12, 13, 14, 15, 16, 17, 18, 19, 20, 21, 22, 23, 24, 25, 26, 27, 28, 29, 30, 31, 32, 33, 34, 35, 36, 37, 38, 39, 40, 41, 42, 43, 44, 45, 46, 47, 48, 49, 50]\n"
     ]
    }
   ],
   "source": [
    "#비어있는 리스트 생성\n",
    "list2 = []\n",
    "\n",
    "#반복문사용\n",
    "for i in range(1,51):\n",
    "    #리스트에 값 추가\n",
    "    list2.append(i)\n",
    "    \n",
    "print(\"list2 : \", list2)"
   ]
  },
  {
   "cell_type": "code",
   "execution_count": 18,
   "id": "4b35ceed",
   "metadata": {},
   "outputs": [
    {
     "name": "stdout",
     "output_type": "stream",
     "text": [
      "10\n"
     ]
    },
    {
     "data": {
      "text/plain": [
       "[15, 16, 17, 18, 19, 20, 21, 22, 23, 24, 25]"
      ]
     },
     "execution_count": 18,
     "metadata": {},
     "output_type": "execute_result"
    }
   ],
   "source": [
    "#인덱싱 슬라이싱은 대괄호로!!\n",
    "#10 출력하기\n",
    "#15~25출력하기\n",
    "\n",
    "#print : 원하는 위치에서 출력 가능 : 실행\n",
    "print(list2[9])\n",
    "\n",
    "#변수명 출력 : 마지막 위치에서만 출력 가능 : 출력\n",
    "list2[14:25]"
   ]
  },
  {
   "cell_type": "markdown",
   "id": "2f197531",
   "metadata": {},
   "source": [
    "# 딕셔너리\n",
    "- key, value로 이루어짐"
   ]
  },
  {
   "cell_type": "code",
   "execution_count": 19,
   "id": "6ca281b8",
   "metadata": {},
   "outputs": [],
   "source": [
    "# dic_team 변수명을 사용해서 딕셔너리 만들기\n",
    "# 이름 나이 key값 사용\n",
    "# 팀원들의 정보"
   ]
  },
  {
   "cell_type": "code",
   "execution_count": 20,
   "id": "449b48d3",
   "metadata": {},
   "outputs": [
    {
     "ename": "SyntaxError",
     "evalue": "invalid syntax (Temp/ipykernel_12056/1333301963.py, line 3)",
     "output_type": "error",
     "traceback": [
      "\u001b[1;36m  File \u001b[1;32m\"C:\\Users\\smhrd\\AppData\\Local\\Temp/ipykernel_12056/1333301963.py\"\u001b[1;36m, line \u001b[1;32m3\u001b[0m\n\u001b[1;33m    \"나이\" : [32,30,29,27,23]\u001b[0m\n\u001b[1;37m    ^\u001b[0m\n\u001b[1;31mSyntaxError\u001b[0m\u001b[1;31m:\u001b[0m invalid syntax\n"
     ]
    }
   ],
   "source": [
    "dic_team = {\n",
    "    \"이름\" : [\"장민서\", \"최찬호\", \"최종인\", \"권우진\", \"김태경\"]   \n",
    "    \"나이\" : [32,30,29,27,23] \n",
    "}"
   ]
  },
  {
   "cell_type": "code",
   "execution_count": null,
   "id": "943fd2ff",
   "metadata": {},
   "outputs": [],
   "source": [
    "for i in dic_team:\n",
    "    print(dic_team.items())"
   ]
  },
  {
   "cell_type": "code",
   "execution_count": null,
   "id": "a03ba7e2",
   "metadata": {},
   "outputs": [],
   "source": []
  },
  {
   "cell_type": "code",
   "execution_count": null,
   "id": "e6181093",
   "metadata": {},
   "outputs": [],
   "source": []
  },
  {
   "cell_type": "code",
   "execution_count": null,
   "id": "8beccb50",
   "metadata": {},
   "outputs": [],
   "source": []
  },
  {
   "cell_type": "code",
   "execution_count": null,
   "id": "110f1093",
   "metadata": {},
   "outputs": [],
   "source": []
  },
  {
   "cell_type": "code",
   "execution_count": null,
   "id": "8497c92d",
   "metadata": {},
   "outputs": [],
   "source": []
  },
  {
   "cell_type": "code",
   "execution_count": null,
   "id": "59b368f4",
   "metadata": {},
   "outputs": [],
   "source": []
  },
  {
   "cell_type": "code",
   "execution_count": null,
   "id": "9a612ebf",
   "metadata": {},
   "outputs": [],
   "source": []
  },
  {
   "cell_type": "code",
   "execution_count": null,
   "id": "932d0f9e",
   "metadata": {},
   "outputs": [],
   "source": []
  },
  {
   "cell_type": "code",
   "execution_count": null,
   "id": "31ccdc14",
   "metadata": {},
   "outputs": [],
   "source": []
  },
  {
   "cell_type": "code",
   "execution_count": null,
   "id": "be4ae256",
   "metadata": {},
   "outputs": [],
   "source": []
  },
  {
   "cell_type": "code",
   "execution_count": null,
   "id": "095d42b8",
   "metadata": {},
   "outputs": [],
   "source": []
  },
  {
   "cell_type": "code",
   "execution_count": null,
   "id": "417c6b65",
   "metadata": {},
   "outputs": [],
   "source": []
  },
  {
   "cell_type": "code",
   "execution_count": null,
   "id": "08583ff4",
   "metadata": {},
   "outputs": [],
   "source": []
  },
  {
   "cell_type": "code",
   "execution_count": null,
   "id": "39f857ec",
   "metadata": {},
   "outputs": [],
   "source": []
  },
  {
   "cell_type": "code",
   "execution_count": null,
   "id": "1beb6a40",
   "metadata": {},
   "outputs": [],
   "source": []
  },
  {
   "cell_type": "code",
   "execution_count": null,
   "id": "c098568d",
   "metadata": {},
   "outputs": [],
   "source": []
  },
  {
   "cell_type": "code",
   "execution_count": null,
   "id": "6b320f81",
   "metadata": {},
   "outputs": [],
   "source": []
  },
  {
   "cell_type": "code",
   "execution_count": null,
   "id": "4d3dba3e",
   "metadata": {},
   "outputs": [],
   "source": []
  },
  {
   "cell_type": "code",
   "execution_count": null,
   "id": "5aa6cc95",
   "metadata": {},
   "outputs": [],
   "source": []
  },
  {
   "cell_type": "code",
   "execution_count": null,
   "id": "c4186dfe",
   "metadata": {},
   "outputs": [],
   "source": []
  },
  {
   "cell_type": "code",
   "execution_count": null,
   "id": "7f5704eb",
   "metadata": {},
   "outputs": [],
   "source": []
  },
  {
   "cell_type": "code",
   "execution_count": null,
   "id": "414a441f",
   "metadata": {},
   "outputs": [],
   "source": []
  }
 ],
 "metadata": {
  "kernelspec": {
   "display_name": "Python 3 (ipykernel)",
   "language": "python",
   "name": "python3"
  },
  "language_info": {
   "codemirror_mode": {
    "name": "ipython",
    "version": 3
   },
   "file_extension": ".py",
   "mimetype": "text/x-python",
   "name": "python",
   "nbconvert_exporter": "python",
   "pygments_lexer": "ipython3",
   "version": "3.9.7"
  }
 },
 "nbformat": 4,
 "nbformat_minor": 5
 
}
