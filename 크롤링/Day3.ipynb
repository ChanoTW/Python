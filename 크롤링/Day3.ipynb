{
 "cells": [
  {
   "cell_type": "markdown",
   "id": "3872df29",
   "metadata": {},
   "source": [
    "# Selenium 라이브러리\n",
    "- 웹페이지를 자동으로 제어하는 라이브러리"
   ]
  },
  {
   "cell_type": "code",
   "execution_count": 1,
   "id": "685f965a",
   "metadata": {
    "collapsed": true
   },
   "outputs": [
    {
     "name": "stdout",
     "output_type": "stream",
     "text": [
      "Collecting selenium\n",
      "  Downloading selenium-4.1.0-py3-none-any.whl (958 kB)\n",
      "Collecting trio~=0.17\n",
      "  Downloading trio-0.19.0-py3-none-any.whl (356 kB)\n",
      "Collecting trio-websocket~=0.9\n",
      "  Downloading trio_websocket-0.9.2-py3-none-any.whl (16 kB)\n",
      "Requirement already satisfied: urllib3[secure]~=1.26 in c:\\users\\smhrd\\anaconda3\\lib\\site-packages (from selenium) (1.26.7)\n",
      "Collecting sortedcontainers\n",
      "  Downloading sortedcontainers-2.4.0-py2.py3-none-any.whl (29 kB)\n",
      "Requirement already satisfied: async-generator>=1.9 in c:\\users\\smhrd\\anaconda3\\lib\\site-packages (from trio~=0.17->selenium) (1.10)\n",
      "Collecting outcome\n",
      "  Downloading outcome-1.1.0-py2.py3-none-any.whl (9.7 kB)\n",
      "Requirement already satisfied: idna in c:\\users\\smhrd\\anaconda3\\lib\\site-packages (from trio~=0.17->selenium) (3.3)\n",
      "Requirement already satisfied: cffi>=1.14 in c:\\users\\smhrd\\anaconda3\\lib\\site-packages (from trio~=0.17->selenium) (1.15.0)\n",
      "Requirement already satisfied: sniffio in c:\\users\\smhrd\\anaconda3\\lib\\site-packages (from trio~=0.17->selenium) (1.2.0)\n",
      "Requirement already satisfied: attrs>=19.2.0 in c:\\users\\smhrd\\anaconda3\\lib\\site-packages (from trio~=0.17->selenium) (21.2.0)\n",
      "Requirement already satisfied: pycparser in c:\\users\\smhrd\\anaconda3\\lib\\site-packages (from cffi>=1.14->trio~=0.17->selenium) (2.21)\n",
      "Collecting wsproto>=0.14\n",
      "  Downloading wsproto-1.0.0-py3-none-any.whl (24 kB)\n",
      "Requirement already satisfied: pyOpenSSL>=0.14 in c:\\users\\smhrd\\anaconda3\\lib\\site-packages (from urllib3[secure]~=1.26->selenium) (21.0.0)\n",
      "Requirement already satisfied: cryptography>=1.3.4 in c:\\users\\smhrd\\anaconda3\\lib\\site-packages (from urllib3[secure]~=1.26->selenium) (3.4.8)\n",
      "Requirement already satisfied: certifi in c:\\users\\smhrd\\anaconda3\\lib\\site-packages (from urllib3[secure]~=1.26->selenium) (2021.10.8)\n",
      "Requirement already satisfied: six>=1.5.2 in c:\\users\\smhrd\\anaconda3\\lib\\site-packages (from pyOpenSSL>=0.14->urllib3[secure]~=1.26->selenium) (1.16.0)\n",
      "Collecting h11<1,>=0.9.0\n",
      "  Downloading h11-0.12.0-py3-none-any.whl (54 kB)\n",
      "Installing collected packages: sortedcontainers, outcome, h11, wsproto, trio, trio-websocket, selenium\n",
      "Successfully installed h11-0.12.0 outcome-1.1.0 selenium-4.1.0 sortedcontainers-2.4.0 trio-0.19.0 trio-websocket-0.9.2 wsproto-1.0.0\n"
     ]
    }
   ],
   "source": [
    "#기본으로 내장된 라이브러리가 아니기 때문에 반드시 한번 설치!\n",
    "!pip install selenium"
   ]
  },
  {
   "cell_type": "code",
   "execution_count": 5,
   "id": "b9bc56c2",
   "metadata": {},
   "outputs": [],
   "source": [
    "# webdriver = 웹을 통제하기 위한 라이브러리(크롬브라우저)\n",
    "# Keys = 키보드역할을 해주는 라이브러리\n",
    "from selenium import webdriver as wb\n",
    "from selenium.webdriver.common.keys import Keys"
   ]
  },
  {
   "cell_type": "code",
   "execution_count": 10,
   "id": "399e9de8",
   "metadata": {},
   "outputs": [],
   "source": [
    "## wb.Chorme() = 크롬창을 실행하기 위한 명령\n",
    "## .get(\"URL\") = 원하는 페이지를 이동하는 법\n",
    "\n",
    "\n",
    "#웹드라이버야 크롬을 실행시켜줘\n",
    "driver = wb.Chrome();\n",
    "#driver야 네이버 페이지좀 가져와줘\n",
    "driver.get(\"http://www.naver.com\")"
   ]
  },
  {
   "cell_type": "code",
   "execution_count": 17,
   "id": "e6cd0e0c",
   "metadata": {},
   "outputs": [
    {
     "name": "stderr",
     "output_type": "stream",
     "text": [
      "C:\\Users\\smhrd\\AppData\\Local\\Temp/ipykernel_6880/4137969757.py:2: DeprecationWarning: find_element_by_* commands are deprecated. Please use find_element() instead\n",
      "  search = driver.find_element_by_id(\"query\")\n"
     ]
    }
   ],
   "source": [
    "#드라이버야 아이디가 ~인 요소좀 찾아와!\n",
    "search = driver.find_element_by_id(\"query\")"
   ]
  },
  {
   "cell_type": "code",
   "execution_count": 18,
   "id": "a25d8f79",
   "metadata": {},
   "outputs": [],
   "source": [
    "#내가 알아온 검색창에 코로나라는 값을 보내줘~\n",
    "search.send_keys(\"코로나\")"
   ]
  },
  {
   "cell_type": "markdown",
   "id": "bbc99185",
   "metadata": {},
   "source": [
    "## 검색진행\n",
    "- 1. 엔터를 입력해서 검색"
   ]
  },
  {
   "cell_type": "code",
   "execution_count": 15,
   "id": "6b2d71cd",
   "metadata": {},
   "outputs": [],
   "source": [
    "search.send_keys(Keys.ENTER)"
   ]
  },
  {
   "cell_type": "code",
   "execution_count": 16,
   "id": "d91c4c09",
   "metadata": {},
   "outputs": [],
   "source": [
    "#뒤로가기 명령 (브라우지 driver)\n",
    "driver.back()"
   ]
  },
  {
   "cell_type": "markdown",
   "id": "75a46fee",
   "metadata": {},
   "source": [
    "## \n",
    "- 2. 검색버튼을 클릭"
   ]
  },
  {
   "cell_type": "code",
   "execution_count": 19,
   "id": "0d97f1c3",
   "metadata": {},
   "outputs": [
    {
     "name": "stderr",
     "output_type": "stream",
     "text": [
      "C:\\Users\\smhrd\\AppData\\Local\\Temp/ipykernel_6880/2351492996.py:1: DeprecationWarning: find_element_by_* commands are deprecated. Please use find_element() instead\n",
      "  btn = driver.find_element_by_id(\"search_btn\")\n"
     ]
    }
   ],
   "source": [
    "btn = driver.find_element_by_id(\"search_btn\")"
   ]
  },
  {
   "cell_type": "code",
   "execution_count": 20,
   "id": "6002a2a0",
   "metadata": {},
   "outputs": [],
   "source": [
    "btn.click()"
   ]
  },
  {
   "cell_type": "code",
   "execution_count": 21,
   "id": "39f8622c",
   "metadata": {},
   "outputs": [],
   "source": [
    "#창 종료하기\n",
    "driver.quit()"
   ]
  },
  {
   "cell_type": "markdown",
   "id": "e2640fb8",
   "metadata": {},
   "source": [
    "# 한솥도시락 사이트 메뉴명, 가격명 수집 ★"
   ]
  },
  {
   "cell_type": "code",
   "execution_count": 47,
   "id": "f280a7c1",
   "metadata": {},
   "outputs": [],
   "source": [
    "# 1.브라우저를 실행\n",
    "# 2. 한솥도시락 URL 이동\n",
    "driver = wb.Chrome()\n",
    "driver.get('https://www.hsd.co.kr/menu/menu_list')"
   ]
  },
  {
   "cell_type": "code",
   "execution_count": 50,
   "id": "ac9e6876",
   "metadata": {},
   "outputs": [
    {
     "name": "stderr",
     "output_type": "stream",
     "text": [
      "C:\\Users\\smhrd\\AppData\\Local\\Temp/ipykernel_6880/800409301.py:1: DeprecationWarning: find_elements_by_* commands are deprecated. Please use find_elements() instead\n",
      "  title = driver.find_elements_by_css_selector('h4.h.fz_03')\n"
     ]
    }
   ],
   "source": [
    "title = driver.find_elements_by_css_selector('h4.h.fz_03')"
   ]
  },
  {
   "cell_type": "code",
   "execution_count": 51,
   "id": "f58914c2",
   "metadata": {},
   "outputs": [
    {
     "name": "stdout",
     "output_type": "stream",
     "text": [
      "행사 숯불직화구이 덮밥\n",
      "행사 제육 김치 부대찌개 정식\n",
      "행사 빅치킨마요 김치 부대찌개 정식\n",
      "행사 돈까스도련님 고기고기\n",
      "행사 동백\n",
      "행사 새치 고기고기\n",
      "행사 진달래\n",
      "행사 스팸 김치볶음밥\n",
      "매화(치킨, 연어구이)\n",
      "매화(순살 고등어 간장구이)\n",
      "진달래\n",
      "개나리(순살 고등어 간장구이)\n",
      "돈까스도련님고기고기\n",
      "탕수육도련님고기고기\n",
      "새치 고기고기\n",
      "돈치 고기고기\n",
      "고기고기\n",
      "숯불직화구이\n",
      "소불고기\n",
      "메가치킨제육\n",
      "칠리 찹쌀탕수육도련님\n",
      "동백\n",
      "치킨제육\n",
      "돈까스도련님\n",
      "제육볶음\n",
      "돈치스팸 도시락\n",
      "제육 김치찌개 정식\n",
      "제육 김치 부대찌개 정식\n",
      "돈치스팸 김치 부대찌개 정식\n",
      "빅치킨마요 김치 부대찌개 정식\n",
      "치킨마요 김치 부대찌개 정식\n",
      "돈치스팸 김치찌개 정식\n",
      "빅치킨마요 김치찌개 정식\n",
      "치킨마요 김치찌개 정식\n",
      "메가스팸마요\n",
      "스팸마요\n",
      "메가치킨마요\n",
      "왕치킨마요\n",
      "빅치킨마요\n",
      "치킨마요\n",
      "참치마요\n",
      "돈치마요\n",
      "치즈 카레도시락\n",
      "돈까스 카레\n",
      "3종치즈 김치볶음밥\n",
      "스팸 김치볶음밥\n",
      "김치볶음밥\n",
      "스팸철판볶음밥\n",
      "소불고기 철판볶음밥\n",
      "소고기 육개장\n",
      "묵은지 김치찌개\n",
      "김치 부대찌개\n",
      "반찬 김치 부대찌개\n",
      "숯불직화구이 덮밥\n",
      "마파두부 덮밥\n",
      "왕카레돈까스덮밥\n",
      "새우돈까스 덮밥\n",
      "돈까스 덮밥\n",
      "소불고기 감초고추장 비빔밥\n",
      "시골제육 두부강된장 비빔밥\n",
      "참치야채 감초고추장\n",
      "두부강정 야채비빔밥\n",
      "열무 두부강된장 비빔밥\n",
      "튼튼도시락\n",
      "반찬 계란말이\n",
      "반찬 치즈계란말이\n",
      "반찬 묵은지김치찌개\n",
      "반찬 소고기육개장\n",
      "반찬 카레\n",
      "반찬 소불고기\n",
      "반찬 순살 고등어데리야끼\n",
      "반찬 치킨\n",
      "반찬 고기고기\n",
      "반찬 돈까스 도련님\n",
      "반찬 제육볶음\n",
      "반찬 토네이도 소세지\n",
      "반찬 반달돈까스\n",
      "리얼꿀 미니호떡\n",
      "바삭 군만두\n",
      "미니 찹쌀핫도그\n",
      "미니 찹쌀탕수육\n",
      "감자고로케\n",
      "케이준후라이\n",
      "고메이 크림 고로케\n",
      "두부연근튀김\n",
      "국물떡볶이 & 토네이도소세지 튀김set\n",
      "리얼 티라미수 찰떡\n",
      "국물 떡볶이\n",
      "토네이도 소세지 튀김세트\n",
      "리얼꿀 미니호떡\n",
      "후라이드 순살(중)\n",
      "후라이드 순살(소)_양념치킨소스\n",
      "후라이드 순살(소)_케이준소스\n",
      "찹쌀탕수육박스(대)\n",
      "찹쌀탕수육박스(중)\n",
      "오리지널 닭강정(중)\n",
      "오리지널 닭강정(소)\n",
      "치킨 BOX(대)\n",
      "치킨BOX(중)_양식소스\n",
      "치킨BOX(중)_타르타르소스\n",
      "오징어젓갈\n",
      "오이지무침\n",
      "한솥 두부강된장소스\n",
      "한솥 감초볶음고추장소스\n",
      "볶음김치\n",
      "김치\n",
      "무말랭이 무침\n",
      "한솥밥\n",
      "현미밥\n",
      "리얼 티라미수 찰떡\n",
      "아이스 애플망고\n"
     ]
    }
   ],
   "source": [
    "for i in title:\n",
    "    print(i.text)"
   ]
  },
  {
   "cell_type": "code",
   "execution_count": 63,
   "id": "f5317618",
   "metadata": {},
   "outputs": [
    {
     "data": {
      "text/plain": [
       "111"
      ]
     },
     "execution_count": 63,
     "metadata": {},
     "output_type": "execute_result"
    }
   ],
   "source": [
    "len(title)"
   ]
  },
  {
   "cell_type": "code",
   "execution_count": 52,
   "id": "a80331df",
   "metadata": {},
   "outputs": [
    {
     "name": "stderr",
     "output_type": "stream",
     "text": [
      "C:\\Users\\smhrd\\AppData\\Local\\Temp/ipykernel_6880/1904536715.py:1: DeprecationWarning: find_elements_by_* commands are deprecated. Please use find_elements() instead\n",
      "  price = driver.find_elements_by_css_selector('div.item-price > strong')\n"
     ]
    }
   ],
   "source": [
    "price = driver.find_elements_by_css_selector('div.item-price > strong')"
   ]
  },
  {
   "cell_type": "code",
   "execution_count": 53,
   "id": "854b757c",
   "metadata": {},
   "outputs": [
    {
     "name": "stdout",
     "output_type": "stream",
     "text": [
      "4,900\n",
      "7,200\n",
      "6,300\n",
      "4,900\n",
      "4,600\n",
      "5,200\n",
      "5,900\n",
      "3,900\n",
      "10,000\n",
      "10,000\n",
      "7,000\n",
      "8,000\n",
      "5,800\n",
      "5,800\n",
      "6,200\n",
      "5,400\n",
      "4,200\n",
      "6,500\n",
      "5,000\n",
      "7,000\n",
      "4,200\n",
      "5,500\n",
      "4,500\n",
      "4,200\n",
      "4,100\n",
      "4,700\n",
      "8,200\n",
      "8,500\n",
      "8,500\n",
      "7,400\n",
      "6,800\n",
      "8,200\n",
      "7,000\n",
      "6,400\n",
      "5,600\n",
      "3,600\n",
      "5,500\n",
      "4,500\n",
      "3,800\n",
      "3,200\n",
      "3,000\n",
      "3,600\n",
      "4,100\n",
      "4,200\n",
      "4,800\n",
      "4,700\n",
      "3,900\n",
      "4,500\n",
      "4,500\n",
      "4,700\n",
      "4,500\n",
      "5,800\n",
      "4,500\n",
      "5,900\n",
      "5,000\n",
      "5,700\n",
      "3,900\n",
      "3,800\n",
      "5,000\n",
      "5,000\n",
      "3,200\n",
      "4,800\n",
      "4,300\n",
      "5,000\n",
      "2,500\n",
      "3,000\n",
      "4,000\n",
      "4,300\n",
      "2,600\n",
      "3,900\n",
      "3,600\n",
      "3,300\n",
      "3,200\n",
      "3,500\n",
      "3,100\n",
      "2,600\n",
      "2,600\n",
      "2,200\n",
      "2,000\n",
      "2,500\n",
      "2,200\n",
      "2,200\n",
      "1,500\n",
      "3,500\n",
      "3,000\n",
      "5,300\n",
      "1,500\n",
      "3,000\n",
      "2,900\n",
      "2,200\n",
      "7,000\n",
      "3,500\n",
      "3,500\n",
      "10,000\n",
      "5,000\n",
      "7,500\n",
      "2,900\n",
      "10,000\n",
      "5,000\n",
      "5,000\n",
      "400\n",
      "700\n",
      "1,800\n",
      "500\n",
      "400\n",
      "300\n",
      "300\n",
      "1,000\n",
      "1,700\n",
      "1,500\n",
      "1,500\n"
     ]
    }
   ],
   "source": [
    "for i in price:\n",
    "    print(i.text)"
   ]
  },
  {
   "cell_type": "markdown",
   "id": "81a37994",
   "metadata": {},
   "source": [
    "### 더보기 버튼 ★"
   ]
  },
  {
   "cell_type": "code",
   "execution_count": 48,
   "id": "48bb70c2",
   "metadata": {
    "scrolled": true
   },
   "outputs": [
    {
     "name": "stderr",
     "output_type": "stream",
     "text": [
      "C:\\Users\\smhrd\\AppData\\Local\\Temp/ipykernel_6880/2232187773.py:2: DeprecationWarning: find_element_by_* commands are deprecated. Please use find_element() instead\n",
      "  btn = driver.find_element_by_css_selector('a.c_05')\n"
     ]
    }
   ],
   "source": [
    "#더보기 버튼을 클릭!\n",
    "btn = driver.find_element_by_css_selector('a.c_05')"
   ]
  },
  {
   "cell_type": "markdown",
   "id": "af1ebafd",
   "metadata": {},
   "source": [
    "# 예외처리 try,except\n",
    "- try : 오류 나기전까지 실행할 로직\n",
    "- except : 오류가 났을때 실행할 로직"
   ]
  },
  {
   "cell_type": "code",
   "execution_count": 37,
   "id": "571745eb",
   "metadata": {},
   "outputs": [],
   "source": [
    "#time 라이브러리\n",
    "#코드 중간중간에 쉬는 시간을 부여\n",
    "import time"
   ]
  },
  {
   "cell_type": "code",
   "execution_count": 49,
   "id": "e4767352",
   "metadata": {},
   "outputs": [
    {
     "name": "stdout",
     "output_type": "stream",
     "text": [
      "더보기가 끝났습니다.\n"
     ]
    }
   ],
   "source": [
    "try:\n",
    "    for i in range(10):\n",
    "        btn.click()\n",
    "        time.sleep(2)\n",
    "except :\n",
    "    print('더보기가 끝났습니다.')"
   ]
  },
  {
   "cell_type": "code",
   "execution_count": null,
   "id": "5fa3564e",
   "metadata": {},
   "outputs": [],
   "source": [
    "# 모든 메뉴명과 가격명 가지고 오기\n",
    "# 가지고 온 데이터로 데이터 프레임 제작"
   ]
  },
  {
   "cell_type": "code",
   "execution_count": 67,
   "id": "9e3009b8",
   "metadata": {},
   "outputs": [
    {
     "data": {
      "text/plain": [
       "111"
      ]
     },
     "execution_count": 67,
     "metadata": {},
     "output_type": "execute_result"
    }
   ],
   "source": [
    "len(title)"
   ]
  },
  {
   "cell_type": "code",
   "execution_count": 68,
   "id": "82fbc3ef",
   "metadata": {},
   "outputs": [
    {
     "data": {
      "text/plain": [
       "111"
      ]
     },
     "execution_count": 68,
     "metadata": {},
     "output_type": "execute_result"
    }
   ],
   "source": [
    "len(price)"
   ]
  },
  {
   "cell_type": "code",
   "execution_count": 55,
   "id": "48fd9703",
   "metadata": {},
   "outputs": [],
   "source": [
    "import pandas as pd\n",
    "from tqdm import tqdm_notebook as tqdm"
   ]
  },
  {
   "cell_type": "code",
   "execution_count": 65,
   "id": "34631120",
   "metadata": {},
   "outputs": [
    {
     "name": "stderr",
     "output_type": "stream",
     "text": [
      "C:\\Users\\smhrd\\AppData\\Local\\Temp/ipykernel_6880/2525196900.py:4: TqdmDeprecationWarning: This function will be removed in tqdm==5.0.0\n",
      "Please use `tqdm.notebook.tqdm` instead of `tqdm.tqdm_notebook`\n",
      "  for i in tqdm(range(len(title))):\n"
     ]
    },
    {
     "data": {
      "application/vnd.jupyter.widget-view+json": {
       "model_id": "7980c7174d0e49ef9f61ebef91f6b805",
       "version_major": 2,
       "version_minor": 0
      },
      "text/plain": [
       "  0%|          | 0/111 [00:00<?, ?it/s]"
      ]
     },
     "metadata": {},
     "output_type": "display_data"
    }
   ],
   "source": [
    "title_list = []\n",
    "price_list = []\n",
    "\n",
    "for i in tqdm(range(len(title))):\n",
    "    title_list.append(title[i].text)\n",
    "    price_list.append(price[i].text)"
   ]
  },
  {
   "cell_type": "code",
   "execution_count": 71,
   "id": "8ebe1f2f",
   "metadata": {},
   "outputs": [
    {
     "data": {
      "text/html": [
       "<div>\n",
       "<style scoped>\n",
       "    .dataframe tbody tr th:only-of-type {\n",
       "        vertical-align: middle;\n",
       "    }\n",
       "\n",
       "    .dataframe tbody tr th {\n",
       "        vertical-align: top;\n",
       "    }\n",
       "\n",
       "    .dataframe thead th {\n",
       "        text-align: right;\n",
       "    }\n",
       "</style>\n",
       "<table border=\"1\" class=\"dataframe\">\n",
       "  <thead>\n",
       "    <tr style=\"text-align: right;\">\n",
       "      <th></th>\n",
       "      <th>메뉴명</th>\n",
       "      <th>가격</th>\n",
       "    </tr>\n",
       "  </thead>\n",
       "  <tbody>\n",
       "    <tr>\n",
       "      <th>0</th>\n",
       "      <td>행사 숯불직화구이 덮밥</td>\n",
       "      <td>4,900</td>\n",
       "    </tr>\n",
       "    <tr>\n",
       "      <th>1</th>\n",
       "      <td>행사 제육 김치 부대찌개 정식</td>\n",
       "      <td>7,200</td>\n",
       "    </tr>\n",
       "    <tr>\n",
       "      <th>2</th>\n",
       "      <td>행사 빅치킨마요 김치 부대찌개 정식</td>\n",
       "      <td>6,300</td>\n",
       "    </tr>\n",
       "    <tr>\n",
       "      <th>3</th>\n",
       "      <td>행사 돈까스도련님 고기고기</td>\n",
       "      <td>4,900</td>\n",
       "    </tr>\n",
       "    <tr>\n",
       "      <th>4</th>\n",
       "      <td>행사 동백</td>\n",
       "      <td>4,600</td>\n",
       "    </tr>\n",
       "    <tr>\n",
       "      <th>...</th>\n",
       "      <td>...</td>\n",
       "      <td>...</td>\n",
       "    </tr>\n",
       "    <tr>\n",
       "      <th>106</th>\n",
       "      <td>무말랭이 무침</td>\n",
       "      <td>300</td>\n",
       "    </tr>\n",
       "    <tr>\n",
       "      <th>107</th>\n",
       "      <td>한솥밥</td>\n",
       "      <td>1,000</td>\n",
       "    </tr>\n",
       "    <tr>\n",
       "      <th>108</th>\n",
       "      <td>현미밥</td>\n",
       "      <td>1,700</td>\n",
       "    </tr>\n",
       "    <tr>\n",
       "      <th>109</th>\n",
       "      <td>리얼 티라미수 찰떡</td>\n",
       "      <td>1,500</td>\n",
       "    </tr>\n",
       "    <tr>\n",
       "      <th>110</th>\n",
       "      <td>아이스 애플망고</td>\n",
       "      <td>1,500</td>\n",
       "    </tr>\n",
       "  </tbody>\n",
       "</table>\n",
       "<p>111 rows × 2 columns</p>\n",
       "</div>"
      ],
      "text/plain": [
       "                     메뉴명     가격\n",
       "0           행사 숯불직화구이 덮밥  4,900\n",
       "1       행사 제육 김치 부대찌개 정식  7,200\n",
       "2    행사 빅치킨마요 김치 부대찌개 정식  6,300\n",
       "3         행사 돈까스도련님 고기고기  4,900\n",
       "4                  행사 동백  4,600\n",
       "..                   ...    ...\n",
       "106              무말랭이 무침    300\n",
       "107                  한솥밥  1,000\n",
       "108                  현미밥  1,700\n",
       "109           리얼 티라미수 찰떡  1,500\n",
       "110             아이스 애플망고  1,500\n",
       "\n",
       "[111 rows x 2 columns]"
      ]
     },
     "execution_count": 71,
     "metadata": {},
     "output_type": "execute_result"
    }
   ],
   "source": [
    "data = {'메뉴명':title_list,'가격':price_list}\n",
    "food = pd.DataFrame(data)\n",
    "food"
   ]
  },
  {
   "cell_type": "code",
   "execution_count": 77,
   "id": "096221d2",
   "metadata": {},
   "outputs": [],
   "source": [
    "#파일 csv파일로 저장하기!!!\n",
    "\n",
    "#한글 인코딩이 안될때\n",
    "# 1.euc-kr\n",
    "# 2. \"\"   >> 비워두기\n",
    "# 3. utf-8-sig\n",
    "\n",
    "food.to_csv(\"한솥.csv\", encoding=\"euc-kr\")"
   ]
  },
  {
   "cell_type": "code",
   "execution_count": 78,
   "id": "fd02aa12",
   "metadata": {},
   "outputs": [],
   "source": [
    "#파일 html파일로 저장하기\n",
    "food.to_html(\"한솥.html\")"
   ]
  },
  {
   "cell_type": "code",
   "execution_count": null,
   "id": "b2565c39",
   "metadata": {},
   "outputs": [],
   "source": []
  },
  {
   "cell_type": "code",
   "execution_count": null,
   "id": "e309c353",
   "metadata": {},
   "outputs": [],
   "source": []
  },
  {
   "cell_type": "code",
   "execution_count": null,
   "id": "c3247e3f",
   "metadata": {},
   "outputs": [],
   "source": []
  },
  {
   "cell_type": "code",
   "execution_count": null,
   "id": "896fde33",
   "metadata": {},
   "outputs": [],
   "source": []
  },
  {
   "cell_type": "code",
   "execution_count": null,
   "id": "09a2857e",
   "metadata": {},
   "outputs": [],
   "source": []
  },
  {
   "cell_type": "code",
   "execution_count": null,
   "id": "4e97ef35",
   "metadata": {},
   "outputs": [],
   "source": []
  },
  {
   "cell_type": "code",
   "execution_count": null,
   "id": "78040d00",
   "metadata": {},
   "outputs": [],
   "source": []
  },
  {
   "cell_type": "code",
   "execution_count": null,
   "id": "8145ecdb",
   "metadata": {},
   "outputs": [],
   "source": []
  },
  {
   "cell_type": "code",
   "execution_count": null,
   "id": "0fc56274",
   "metadata": {},
   "outputs": [],
   "source": []
  },
  {
   "cell_type": "code",
   "execution_count": null,
   "id": "4838d301",
   "metadata": {},
   "outputs": [],
   "source": []
  },
  {
   "cell_type": "code",
   "execution_count": null,
   "id": "030c8fa8",
   "metadata": {},
   "outputs": [],
   "source": []
  },
  {
   "cell_type": "code",
   "execution_count": null,
   "id": "a7bdd144",
   "metadata": {},
   "outputs": [],
   "source": []
  },
  {
   "cell_type": "code",
   "execution_count": null,
   "id": "49bf3ec7",
   "metadata": {},
   "outputs": [],
   "source": []
  }
 ],
 "metadata": {
  "kernelspec": {
   "display_name": "Python 3 (ipykernel)",
   "language": "python",
   "name": "python3"
  },
  "language_info": {
   "codemirror_mode": {
    "name": "ipython",
    "version": 3
   },
   "file_extension": ".py",
   "mimetype": "text/x-python",
   "name": "python",
   "nbconvert_exporter": "python",
   "pygments_lexer": "ipython3",
   "version": "3.9.7"
  }
 },
 "nbformat": 4,
 "nbformat_minor": 5
}
