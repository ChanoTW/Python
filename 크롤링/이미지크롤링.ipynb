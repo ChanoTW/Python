{
 "cells": [
  {
   "cell_type": "code",
   "execution_count": 1,
   "id": "b332c731",
   "metadata": {},
   "outputs": [],
   "source": [
    "from selenium import webdriver as wb\n",
    "from selenium.webdriver.common.keys import Keys\n",
    "import time\n",
    "from bs4 import BeautifulSoup as bs\n",
    "import os #파일시스템을 위한 라이브러리 ex)파일, 폴더를 생성할 때 씀\n",
    "from urllib.request import urlretrieve #이미지의 경로를 파일로 저장시켜주는 라이브러리"
   ]
  },
  {
   "cell_type": "markdown",
   "id": "79ad2860",
   "metadata": {},
   "source": [
    "### 폴더를 생성 >> os를 사용해서!\n",
    "### 바탕화면에 이미지라는 폴더가 없다면 폴더를 생성해보기"
   ]
  },
  {
   "cell_type": "code",
   "execution_count": 2,
   "id": "0cd382c3",
   "metadata": {},
   "outputs": [],
   "source": [
    "if not os.path.isdir('C:/Users/smhrd/Desktop/이미지'):\n",
    "    os.mkdir('C:/Users/smhrd/Desktop/이미지')"
   ]
  },
  {
   "cell_type": "code",
   "execution_count": 3,
   "id": "beb40325",
   "metadata": {},
   "outputs": [],
   "source": [
    "driver = wb.Chrome()\n",
    "driver.get(\"https://search.naver.com/search.naver?where=image&sm=tab_jum&query=%EC%8A%89%EC%8A%89+%EC%8B%9C%EB%B0%9C%EB%9F%BC%EC%95%84\")"
   ]
  },
  {
   "cell_type": "code",
   "execution_count": 5,
   "id": "b173d5e1",
   "metadata": {},
   "outputs": [],
   "source": [
    "soup = bs(driver.page_source)"
   ]
  },
  {
   "cell_type": "code",
   "execution_count": 7,
   "id": "3407bd09",
   "metadata": {},
   "outputs": [],
   "source": [
    "img = soup.select(\"img._image._listImage\")"
   ]
  },
  {
   "cell_type": "code",
   "execution_count": 11,
   "id": "9a779baf",
   "metadata": {},
   "outputs": [
    {
     "data": {
      "text/plain": [
       "'https://search.pstatic.net/common/?src=http%3A%2F%2Fblogfiles.naver.net%2FMjAyMTA3MzBfMTcz%2FMDAxNjI3NjMyODA3Mzc0.g7KLDa21Ng2OI01G9ca6jF9YhiFiYzapyAgRwiyBvR4g.xDryNBED40tGiy57U1KlwxtUQO-gwIiVZZwSu1nnihQg.JPEG.morikawa731%2Foutput_4233860123.jpg&type=a340'"
      ]
     },
     "execution_count": 11,
     "metadata": {},
     "output_type": "execute_result"
    }
   ],
   "source": [
    "img[0][\"src\"]"
   ]
  },
  {
   "cell_type": "code",
   "execution_count": 12,
   "id": "e9535289",
   "metadata": {},
   "outputs": [],
   "source": [
    "imgSrc = []\n",
    "for i in img:\n",
    "    imgSrc.append(i[\"src\"])"
   ]
  },
  {
   "cell_type": "code",
   "execution_count": 13,
   "id": "6e39058a",
   "metadata": {
    "scrolled": true
   },
   "outputs": [
    {
     "data": {
      "text/plain": [
       "['https://search.pstatic.net/common/?src=http%3A%2F%2Fblogfiles.naver.net%2FMjAyMTA3MzBfMTcz%2FMDAxNjI3NjMyODA3Mzc0.g7KLDa21Ng2OI01G9ca6jF9YhiFiYzapyAgRwiyBvR4g.xDryNBED40tGiy57U1KlwxtUQO-gwIiVZZwSu1nnihQg.JPEG.morikawa731%2Foutput_4233860123.jpg&type=a340',\n",
       " 'https://search.pstatic.net/sunny/?src=http%3A%2F%2Ffile3.instiz.net%2Fdata%2Fcached_img%2Fupload%2F2021%2F09%2F24%2F1%2F254b1316006aa06fe29559c388940b32.jpg&type=a340',\n",
       " 'https://search.pstatic.net/common/?src=http%3A%2F%2Fblogfiles.naver.net%2FMjAyMTA2MjVfNzIg%2FMDAxNjI0NTk0OTM1Mjkx.Mk6kAZ82ije9M_sSxniBKUanPXx4WfFTzFBW_9VTWDYg.xgwCmmoNgUaBZnas4aLIyvh-xeQo0x7oU-13yChjsfsg.JPEG.gomgomibbo%2FIMG_6629.JPG&type=a340',\n",
       " 'https://search.pstatic.net/common/?src=http%3A%2F%2Fblogfiles.naver.net%2FMjAyMTA3MzBfMzcg%2FMDAxNjI3NjMzMDIwMTQ0.Jkui9_IjZW-qDvOT5WVhx9mXPKybNzSRloDpgITrQT8g.WihaJaEcrwHcIq74o2Ijp34jPF32jpmXaDvO9aUNEa4g.JPEG.morikawa731%2Foutput_2873743354.jpg&type=a340',\n",
       " 'https://search.pstatic.net/common/?src=http%3A%2F%2Fblogfiles.naver.net%2FMjAxOTA4MTNfMTk2%2FMDAxNTY1Njk5NzM2OTM5.o8pV9VG_zB8T-ZW2yB7LePQXP7SQ6tPHLj4c08FCk7Qg.oWNyYZp6lwyQhSvRVLo0mbJwq1nZ3MCy8USH0zgcEbcg.PNG.ksw87581%2FEBu-_C4UEAA5qVR.png&type=a340',\n",
       " 'https://search.pstatic.net/common/?src=http%3A%2F%2Fblogfiles.naver.net%2FMjAyMTEyMDdfMjE2%2FMDAxNjM4ODQzMTczMDEy.KbGYpQBe6bBhyIRATB3fyyaOZqtqzWXSPCDVFaO-Tbwg.ZMHHt_Rp5ja-GkTA0NmGYfVb0cY3H-JUl-xOU48H160g.JPEG.hxxjxxnx%2FIMG_5428.jpg&type=a340',\n",
       " 'https://search.pstatic.net/sunny/?src=https%3A%2F%2Fimg.theqoo.net%2Fimg%2FBxpss.jpg&type=a340',\n",
       " 'https://search.pstatic.net/common/?src=http%3A%2F%2Fblogfiles.naver.net%2FMjAyMTA3MjhfMjkz%2FMDAxNjI3NDQ0MTU3OTQ1.q7X8_8sALyk9IaeWvLv2a0jdo7Vs2ibyyGIr9h7fky8g.q-94qwsDlDxtqB47T80dWPNJHaYJnNhQrKtEJFBdAdwg.JPEG.smf4287%2FF09F6691-0DA7-49AA-A359-77D39EECD06D.jpeg&type=a340',\n",
       " 'https://search.pstatic.net/common/?src=http%3A%2F%2Fblogfiles.naver.net%2FMjAyMTExMDNfMjE3%2FMDAxNjM1OTQ4NDMzMzEw.2igM-IgkmiZrB5nUr5zoHBqTgxhB6w4P9pVS5BSvlpgg.nO1LxahQEg2zGvGybqiWqEpmBPol9SttC0xXX2BbTw0g.JPEG.hyunm121%2Foutput_3867895993.jpg&type=a340',\n",
       " 'https://search.pstatic.net/common/?src=http%3A%2F%2Fblogfiles.naver.net%2FMjAyMDA4MjZfMzQg%2FMDAxNTk4MzgyODY0NTQ3.knOD4x9xKVBRBxAQHmdwvHLRdwJmpH5oGRsfQSiSHzYg.tuvjwYmb-IH0KDrhviNjALdyTqD8BFkNhhT3infyNpog.JPEG.moon_n1ght%2FIMG_7828.JPG&type=a340',\n",
       " 'https://search.pstatic.net/common/?src=http%3A%2F%2Fblogfiles.naver.net%2FMjAyMTA2MjhfMTQ1%2FMDAxNjI0ODg3OTgwNDY4.xmfxIw-a8RaW6m7yYJCKUVlf5h0aF9X5cz2aF3trcT4g.bLR_welN90UgNLmu-iU8smAcIdtmh6AtI2OLi99YL30g.JPEG.dave1303%2F%25BD%25B5%25BD%25B4%25BD%25B5.jpg&type=a340',\n",
       " 'https://search.pstatic.net/common/?src=http%3A%2F%2Fblogfiles.naver.net%2FMjAyMTExMjVfMTY1%2FMDAxNjM3ODI0OTgwNjMw.3NgWd8SQl3nTKXk6ts8g4EsAmWykZ3TepwZRpBr5G9kg.DJ-5XrEFKl68b381YEpyzUCSLZppMejI77TZVEXJfW4g.PNG.y7491%2Fimage.png&type=a340',\n",
       " 'https://search.pstatic.net/sunny/?src=https%3A%2F%2Fdcimg4.dcinside.co.kr%2Fviewimage.php%3Fid%3D2fb4db23%26no%3D24b0d769e1d32ca73feb85fa11d02831b3f3a5b77d2b2273808dfa809eb93b5b9baed4488854a933017e46e881834a4c7e0eae7f55d254d0af7295286e5bf84194702942f53a83746ab3665c271e86562f788521af69f2587fa1bf7514afd13770afd46e&type=a340',\n",
       " 'https://search.pstatic.net/common/?src=http%3A%2F%2Fblogfiles.naver.net%2FMjAyMTA4MjBfNzQg%2FMDAxNjI5NDE5NTYxNjgw.jn1rXOaPdXFWmqaRzIoga0eFmZwjWxi3fMy38yG0hGgg.gJVgkkTIa7ZZUYXbupUpoyT6y_uzVUGKsLNI8iDN_sQg.JPEG.l26tempo%2FIMG_9714.JPG&type=ofullfill340_600',\n",
       " 'data:image/gif;base64,R0lGODlhAQABAIAAAAAAAP///yH5BAEAAAAALAAAAAABAAEAAAIBRAA7',\n",
       " 'data:image/gif;base64,R0lGODlhAQABAIAAAAAAAP///yH5BAEAAAAALAAAAAABAAEAAAIBRAA7',\n",
       " 'data:image/gif;base64,R0lGODlhAQABAIAAAAAAAP///yH5BAEAAAAALAAAAAABAAEAAAIBRAA7',\n",
       " 'data:image/gif;base64,R0lGODlhAQABAIAAAAAAAP///yH5BAEAAAAALAAAAAABAAEAAAIBRAA7',\n",
       " 'data:image/gif;base64,R0lGODlhAQABAIAAAAAAAP///yH5BAEAAAAALAAAAAABAAEAAAIBRAA7',\n",
       " 'data:image/gif;base64,R0lGODlhAQABAIAAAAAAAP///yH5BAEAAAAALAAAAAABAAEAAAIBRAA7',\n",
       " 'data:image/gif;base64,R0lGODlhAQABAIAAAAAAAP///yH5BAEAAAAALAAAAAABAAEAAAIBRAA7',\n",
       " 'data:image/gif;base64,R0lGODlhAQABAIAAAAAAAP///yH5BAEAAAAALAAAAAABAAEAAAIBRAA7',\n",
       " 'data:image/gif;base64,R0lGODlhAQABAIAAAAAAAP///yH5BAEAAAAALAAAAAABAAEAAAIBRAA7',\n",
       " 'data:image/gif;base64,R0lGODlhAQABAIAAAAAAAP///yH5BAEAAAAALAAAAAABAAEAAAIBRAA7',\n",
       " 'data:image/gif;base64,R0lGODlhAQABAIAAAAAAAP///yH5BAEAAAAALAAAAAABAAEAAAIBRAA7',\n",
       " 'data:image/gif;base64,R0lGODlhAQABAIAAAAAAAP///yH5BAEAAAAALAAAAAABAAEAAAIBRAA7',\n",
       " 'data:image/gif;base64,R0lGODlhAQABAIAAAAAAAP///yH5BAEAAAAALAAAAAABAAEAAAIBRAA7',\n",
       " 'data:image/gif;base64,R0lGODlhAQABAIAAAAAAAP///yH5BAEAAAAALAAAAAABAAEAAAIBRAA7',\n",
       " 'data:image/gif;base64,R0lGODlhAQABAIAAAAAAAP///yH5BAEAAAAALAAAAAABAAEAAAIBRAA7',\n",
       " 'data:image/gif;base64,R0lGODlhAQABAIAAAAAAAP///yH5BAEAAAAALAAAAAABAAEAAAIBRAA7',\n",
       " 'data:image/gif;base64,R0lGODlhAQABAIAAAAAAAP///yH5BAEAAAAALAAAAAABAAEAAAIBRAA7',\n",
       " 'data:image/gif;base64,R0lGODlhAQABAIAAAAAAAP///yH5BAEAAAAALAAAAAABAAEAAAIBRAA7',\n",
       " 'data:image/gif;base64,R0lGODlhAQABAIAAAAAAAP///yH5BAEAAAAALAAAAAABAAEAAAIBRAA7',\n",
       " 'data:image/gif;base64,R0lGODlhAQABAIAAAAAAAP///yH5BAEAAAAALAAAAAABAAEAAAIBRAA7',\n",
       " 'data:image/gif;base64,R0lGODlhAQABAIAAAAAAAP///yH5BAEAAAAALAAAAAABAAEAAAIBRAA7',\n",
       " 'data:image/gif;base64,R0lGODlhAQABAIAAAAAAAP///yH5BAEAAAAALAAAAAABAAEAAAIBRAA7',\n",
       " 'data:image/gif;base64,R0lGODlhAQABAIAAAAAAAP///yH5BAEAAAAALAAAAAABAAEAAAIBRAA7',\n",
       " 'data:image/gif;base64,R0lGODlhAQABAIAAAAAAAP///yH5BAEAAAAALAAAAAABAAEAAAIBRAA7',\n",
       " 'data:image/gif;base64,R0lGODlhAQABAIAAAAAAAP///yH5BAEAAAAALAAAAAABAAEAAAIBRAA7',\n",
       " 'data:image/gif;base64,R0lGODlhAQABAIAAAAAAAP///yH5BAEAAAAALAAAAAABAAEAAAIBRAA7',\n",
       " 'data:image/gif;base64,R0lGODlhAQABAIAAAAAAAP///yH5BAEAAAAALAAAAAABAAEAAAIBRAA7',\n",
       " 'data:image/gif;base64,R0lGODlhAQABAIAAAAAAAP///yH5BAEAAAAALAAAAAABAAEAAAIBRAA7',\n",
       " 'data:image/gif;base64,R0lGODlhAQABAIAAAAAAAP///yH5BAEAAAAALAAAAAABAAEAAAIBRAA7',\n",
       " 'data:image/gif;base64,R0lGODlhAQABAIAAAAAAAP///yH5BAEAAAAALAAAAAABAAEAAAIBRAA7',\n",
       " 'data:image/gif;base64,R0lGODlhAQABAIAAAAAAAP///yH5BAEAAAAALAAAAAABAAEAAAIBRAA7',\n",
       " 'data:image/gif;base64,R0lGODlhAQABAIAAAAAAAP///yH5BAEAAAAALAAAAAABAAEAAAIBRAA7',\n",
       " 'data:image/gif;base64,R0lGODlhAQABAIAAAAAAAP///yH5BAEAAAAALAAAAAABAAEAAAIBRAA7',\n",
       " 'data:image/gif;base64,R0lGODlhAQABAIAAAAAAAP///yH5BAEAAAAALAAAAAABAAEAAAIBRAA7']"
      ]
     },
     "execution_count": 13,
     "metadata": {},
     "output_type": "execute_result"
    }
   ],
   "source": [
    "imgSrc"
   ]
  },
  {
   "cell_type": "code",
   "execution_count": 15,
   "id": "059b24be",
   "metadata": {},
   "outputs": [],
   "source": [
    "for i in range(len(imgSrc)):\n",
    "    urlretrieve(imgSrc[i], f'C:/Users/smhrd/Desktop/이미지/{str(i)}.jpg')\n",
    "    time.sleep(1)"
   ]
  },
  {
   "cell_type": "code",
   "execution_count": null,
   "id": "ec7d6974",
   "metadata": {},
   "outputs": [],
   "source": []
  },
  {
   "cell_type": "code",
   "execution_count": null,
   "id": "0700968e",
   "metadata": {},
   "outputs": [],
   "source": []
  },
  {
   "cell_type": "code",
   "execution_count": null,
   "id": "4c88a766",
   "metadata": {},
   "outputs": [],
   "source": []
  },
  {
   "cell_type": "code",
   "execution_count": null,
   "id": "71083db2",
   "metadata": {},
   "outputs": [],
   "source": []
  },
  {
   "cell_type": "code",
   "execution_count": null,
   "id": "57e046ab",
   "metadata": {},
   "outputs": [],
   "source": []
  },
  {
   "cell_type": "code",
   "execution_count": null,
   "id": "a45e36e0",
   "metadata": {},
   "outputs": [],
   "source": []
  },
  {
   "cell_type": "code",
   "execution_count": null,
   "id": "45a5ff1d",
   "metadata": {},
   "outputs": [],
   "source": []
  },
  {
   "cell_type": "code",
   "execution_count": null,
   "id": "856bc4d7",
   "metadata": {},
   "outputs": [],
   "source": []
  },
  {
   "cell_type": "code",
   "execution_count": null,
   "id": "ff5a66bf",
   "metadata": {},
   "outputs": [],
   "source": []
  },
  {
   "cell_type": "code",
   "execution_count": null,
   "id": "56e48097",
   "metadata": {},
   "outputs": [],
   "source": []
  },
  {
   "cell_type": "code",
   "execution_count": null,
   "id": "a05e73eb",
   "metadata": {},
   "outputs": [],
   "source": []
  },
  {
   "cell_type": "code",
   "execution_count": null,
   "id": "bafc0fdd",
   "metadata": {},
   "outputs": [],
   "source": []
  },
  {
   "cell_type": "code",
   "execution_count": null,
   "id": "7ab213fc",
   "metadata": {},
   "outputs": [],
   "source": []
  },
  {
   "cell_type": "code",
   "execution_count": null,
   "id": "ef1a308b",
   "metadata": {},
   "outputs": [],
   "source": []
  },
  {
   "cell_type": "code",
   "execution_count": null,
   "id": "8bdc13a2",
   "metadata": {},
   "outputs": [],
   "source": []
  },
  {
   "cell_type": "code",
   "execution_count": null,
   "id": "66932587",
   "metadata": {},
   "outputs": [],
   "source": []
  },
  {
   "cell_type": "code",
   "execution_count": null,
   "id": "422031be",
   "metadata": {},
   "outputs": [],
   "source": []
  },
  {
   "cell_type": "code",
   "execution_count": null,
   "id": "097f2e68",
   "metadata": {},
   "outputs": [],
   "source": []
  },
  {
   "cell_type": "code",
   "execution_count": null,
   "id": "86482197",
   "metadata": {},
   "outputs": [],
   "source": []
  },
  {
   "cell_type": "code",
   "execution_count": null,
   "id": "7ce732ea",
   "metadata": {},
   "outputs": [],
   "source": []
  },
  {
   "cell_type": "code",
   "execution_count": null,
   "id": "438b0082",
   "metadata": {},
   "outputs": [],
   "source": []
  },
  {
   "cell_type": "code",
   "execution_count": null,
   "id": "10cf857c",
   "metadata": {},
   "outputs": [],
   "source": []
  },
  {
   "cell_type": "code",
   "execution_count": null,
   "id": "ebfb70b0",
   "metadata": {},
   "outputs": [],
   "source": []
  },
  {
   "cell_type": "code",
   "execution_count": null,
   "id": "1d583f3d",
   "metadata": {},
   "outputs": [],
   "source": []
  },
  {
   "cell_type": "code",
   "execution_count": null,
   "id": "c8fa2286",
   "metadata": {},
   "outputs": [],
   "source": []
  },
  {
   "cell_type": "code",
   "execution_count": null,
   "id": "75034744",
   "metadata": {},
   "outputs": [],
   "source": []
  }
 ],
 "metadata": {
  "kernelspec": {
   "display_name": "Python 3 (ipykernel)",
   "language": "python",
   "name": "python3"
  },
  "language_info": {
   "codemirror_mode": {
    "name": "ipython",
    "version": 3
   },
   "file_extension": ".py",
   "mimetype": "text/x-python",
   "name": "python",
   "nbconvert_exporter": "python",
   "pygments_lexer": "ipython3",
   "version": "3.9.7"
  }
 },
 "nbformat": 4,
 "nbformat_minor": 5
}
